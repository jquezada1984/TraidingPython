{
 "cells": [
  {
   "cell_type": "code",
   "execution_count": null,
   "metadata": {},
   "outputs": [
    {
     "data": {
      "text/html": [
       "<div>\n",
       "<style scoped>\n",
       "    .dataframe tbody tr th:only-of-type {\n",
       "        vertical-align: middle;\n",
       "    }\n",
       "\n",
       "    .dataframe tbody tr th {\n",
       "        vertical-align: top;\n",
       "    }\n",
       "\n",
       "    .dataframe thead th {\n",
       "        text-align: right;\n",
       "    }\n",
       "</style>\n",
       "<table border=\"1\" class=\"dataframe\">\n",
       "  <thead>\n",
       "    <tr style=\"text-align: right;\">\n",
       "      <th></th>\n",
       "      <th>Time</th>\n",
       "      <th>Open</th>\n",
       "      <th>High</th>\n",
       "      <th>Low</th>\n",
       "      <th>Close</th>\n",
       "      <th>Volume</th>\n",
       "      <th>Media</th>\n",
       "      <th>Media_ema_150</th>\n",
       "      <th>Close_ema_50</th>\n",
       "      <th>Close_ema_100</th>\n",
       "      <th>Close_ema_20</th>\n",
       "      <th>Media_wma_300</th>\n",
       "      <th>diferencia_150_300</th>\n",
       "      <th>diferencia_20_50</th>\n",
       "      <th>diferencia_100_300</th>\n",
       "      <th>BullsPower_13</th>\n",
       "      <th>BearsPower_13</th>\n",
       "      <th>Low_StdDev_20</th>\n",
       "      <th>High_StdDev_20</th>\n",
       "      <th>Close_StdDev_20</th>\n",
       "      <th>adx_14_adx</th>\n",
       "      <th>adx_14neg</th>\n",
       "      <th>adx_14pos</th>\n",
       "      <th>Close_cci_14</th>\n",
       "      <th>stochastic_5_3stoch</th>\n",
       "      <th>stochastic_5_3signal</th>\n",
       "      <th>ao_5_34</th>\n",
       "      <th>Low_cci_14</th>\n",
       "      <th>High_cci_14</th>\n",
       "      <th>Close_trix_14</th>\n",
       "      <th>Low_rsi_14</th>\n",
       "      <th>Close_rsi_14</th>\n",
       "      <th>High_rsi_14</th>\n",
       "      <th>Low_trix_14</th>\n",
       "      <th>High_trix_14</th>\n",
       "      <th>Open_trix_14</th>\n",
       "      <th>Close_stochrsi_14</th>\n",
       "      <th>Low_stochrsi_14</th>\n",
       "      <th>High_stochrsi_14</th>\n",
       "      <th>Close_roc_14</th>\n",
       "      <th>H/O</th>\n",
       "      <th>L/O</th>\n",
       "      <th>C/O</th>\n",
       "      <th>cluster</th>\n",
       "      <th>picos_minimos_close</th>\n",
       "      <th>picos_maximos_close</th>\n",
       "      <th>picos_minimos_low</th>\n",
       "      <th>picos_maximos_high</th>\n",
       "    </tr>\n",
       "  </thead>\n",
       "  <tbody>\n",
       "    <tr>\n",
       "      <th>199695</th>\n",
       "      <td>2023-07-06 18:35:00</td>\n",
       "      <td>1.08821</td>\n",
       "      <td>1.08824</td>\n",
       "      <td>1.08803</td>\n",
       "      <td>1.08813</td>\n",
       "      <td>393</td>\n",
       "      <td>1.088135</td>\n",
       "      <td>1.086985</td>\n",
       "      <td>1.087499</td>\n",
       "      <td>1.087219</td>\n",
       "      <td>1.087815</td>\n",
       "      <td>1.086561</td>\n",
       "      <td>-0.000424</td>\n",
       "      <td>-0.000315</td>\n",
       "      <td>-0.000658</td>\n",
       "      <td>0.000325</td>\n",
       "      <td>0.000115</td>\n",
       "      <td>0.000228</td>\n",
       "      <td>0.000211</td>\n",
       "      <td>0.000236</td>\n",
       "      <td>23.055693</td>\n",
       "      <td>14.125735</td>\n",
       "      <td>24.818278</td>\n",
       "      <td>131.014493</td>\n",
       "      <td>78.431373</td>\n",
       "      <td>62.810458</td>\n",
       "      <td>0.000286</td>\n",
       "      <td>159.179416</td>\n",
       "      <td>134.140436</td>\n",
       "      <td>0.002852</td>\n",
       "      <td>62.470629</td>\n",
       "      <td>57.418515</td>\n",
       "      <td>58.430560</td>\n",
       "      <td>0.003339</td>\n",
       "      <td>0.002466</td>\n",
       "      <td>0.002918</td>\n",
       "      <td>0.628063</td>\n",
       "      <td>0.943768</td>\n",
       "      <td>0.840836</td>\n",
       "      <td>0.020222</td>\n",
       "      <td>0.00003</td>\n",
       "      <td>-0.00018</td>\n",
       "      <td>-0.00008</td>\n",
       "      <td>0</td>\n",
       "      <td>NaN</td>\n",
       "      <td>NaN</td>\n",
       "      <td>NaN</td>\n",
       "      <td>NaN</td>\n",
       "    </tr>\n",
       "    <tr>\n",
       "      <th>199696</th>\n",
       "      <td>2023-07-06 18:40:00</td>\n",
       "      <td>1.08812</td>\n",
       "      <td>1.08833</td>\n",
       "      <td>1.08802</td>\n",
       "      <td>1.08832</td>\n",
       "      <td>882</td>\n",
       "      <td>1.088175</td>\n",
       "      <td>1.087001</td>\n",
       "      <td>1.087531</td>\n",
       "      <td>1.087241</td>\n",
       "      <td>1.087863</td>\n",
       "      <td>1.086575</td>\n",
       "      <td>-0.000426</td>\n",
       "      <td>-0.000331</td>\n",
       "      <td>-0.000666</td>\n",
       "      <td>0.000357</td>\n",
       "      <td>0.000047</td>\n",
       "      <td>0.000213</td>\n",
       "      <td>0.000196</td>\n",
       "      <td>0.000247</td>\n",
       "      <td>23.616403</td>\n",
       "      <td>13.239138</td>\n",
       "      <td>25.082767</td>\n",
       "      <td>159.008198</td>\n",
       "      <td>98.333333</td>\n",
       "      <td>92.254902</td>\n",
       "      <td>0.000306</td>\n",
       "      <td>140.966123</td>\n",
       "      <td>145.757180</td>\n",
       "      <td>0.002858</td>\n",
       "      <td>62.160062</td>\n",
       "      <td>60.137159</td>\n",
       "      <td>60.141288</td>\n",
       "      <td>0.003269</td>\n",
       "      <td>0.002441</td>\n",
       "      <td>0.002869</td>\n",
       "      <td>0.958907</td>\n",
       "      <td>0.898872</td>\n",
       "      <td>1.000000</td>\n",
       "      <td>0.064361</td>\n",
       "      <td>0.00021</td>\n",
       "      <td>-0.00010</td>\n",
       "      <td>0.00020</td>\n",
       "      <td>5</td>\n",
       "      <td>NaN</td>\n",
       "      <td>NaN</td>\n",
       "      <td>NaN</td>\n",
       "      <td>NaN</td>\n",
       "    </tr>\n",
       "    <tr>\n",
       "      <th>199697</th>\n",
       "      <td>2023-07-06 18:45:00</td>\n",
       "      <td>1.08833</td>\n",
       "      <td>1.08846</td>\n",
       "      <td>1.08823</td>\n",
       "      <td>1.08844</td>\n",
       "      <td>896</td>\n",
       "      <td>1.088345</td>\n",
       "      <td>1.087019</td>\n",
       "      <td>1.087567</td>\n",
       "      <td>1.087265</td>\n",
       "      <td>1.087918</td>\n",
       "      <td>1.086590</td>\n",
       "      <td>-0.000429</td>\n",
       "      <td>-0.000351</td>\n",
       "      <td>-0.000675</td>\n",
       "      <td>0.000421</td>\n",
       "      <td>0.000191</td>\n",
       "      <td>0.000219</td>\n",
       "      <td>0.000189</td>\n",
       "      <td>0.000238</td>\n",
       "      <td>24.476968</td>\n",
       "      <td>12.606910</td>\n",
       "      <td>26.584121</td>\n",
       "      <td>186.958966</td>\n",
       "      <td>97.183099</td>\n",
       "      <td>91.315935</td>\n",
       "      <td>0.000361</td>\n",
       "      <td>183.432343</td>\n",
       "      <td>184.775936</td>\n",
       "      <td>0.002916</td>\n",
       "      <td>65.984446</td>\n",
       "      <td>61.796176</td>\n",
       "      <td>62.539388</td>\n",
       "      <td>0.003257</td>\n",
       "      <td>0.002463</td>\n",
       "      <td>0.002874</td>\n",
       "      <td>1.000000</td>\n",
       "      <td>1.000000</td>\n",
       "      <td>1.000000</td>\n",
       "      <td>0.029409</td>\n",
       "      <td>0.00013</td>\n",
       "      <td>-0.00010</td>\n",
       "      <td>0.00011</td>\n",
       "      <td>0</td>\n",
       "      <td>NaN</td>\n",
       "      <td>1.08844</td>\n",
       "      <td>NaN</td>\n",
       "      <td>NaN</td>\n",
       "    </tr>\n",
       "    <tr>\n",
       "      <th>199698</th>\n",
       "      <td>2023-07-06 18:50:00</td>\n",
       "      <td>1.08843</td>\n",
       "      <td>1.08856</td>\n",
       "      <td>1.08836</td>\n",
       "      <td>1.08839</td>\n",
       "      <td>780</td>\n",
       "      <td>1.088460</td>\n",
       "      <td>1.087038</td>\n",
       "      <td>1.087599</td>\n",
       "      <td>1.087287</td>\n",
       "      <td>1.087963</td>\n",
       "      <td>1.086606</td>\n",
       "      <td>-0.000432</td>\n",
       "      <td>-0.000363</td>\n",
       "      <td>-0.000681</td>\n",
       "      <td>0.000471</td>\n",
       "      <td>0.000271</td>\n",
       "      <td>0.000223</td>\n",
       "      <td>0.000196</td>\n",
       "      <td>0.000248</td>\n",
       "      <td>25.524098</td>\n",
       "      <td>12.067262</td>\n",
       "      <td>27.586454</td>\n",
       "      <td>165.001998</td>\n",
       "      <td>79.012346</td>\n",
       "      <td>91.509593</td>\n",
       "      <td>0.000446</td>\n",
       "      <td>174.015849</td>\n",
       "      <td>176.788180</td>\n",
       "      <td>0.002989</td>\n",
       "      <td>68.131679</td>\n",
       "      <td>60.663301</td>\n",
       "      <td>64.317818</td>\n",
       "      <td>0.003303</td>\n",
       "      <td>0.002529</td>\n",
       "      <td>0.002928</td>\n",
       "      <td>0.881233</td>\n",
       "      <td>1.000000</td>\n",
       "      <td>1.000000</td>\n",
       "      <td>0.045961</td>\n",
       "      <td>0.00013</td>\n",
       "      <td>-0.00007</td>\n",
       "      <td>-0.00004</td>\n",
       "      <td>0</td>\n",
       "      <td>NaN</td>\n",
       "      <td>NaN</td>\n",
       "      <td>NaN</td>\n",
       "      <td>1.08856</td>\n",
       "    </tr>\n",
       "    <tr>\n",
       "      <th>199699</th>\n",
       "      <td>2023-07-06 18:55:00</td>\n",
       "      <td>1.08839</td>\n",
       "      <td>1.08841</td>\n",
       "      <td>1.08805</td>\n",
       "      <td>1.08807</td>\n",
       "      <td>823</td>\n",
       "      <td>1.088230</td>\n",
       "      <td>1.087054</td>\n",
       "      <td>1.087618</td>\n",
       "      <td>1.087302</td>\n",
       "      <td>1.087973</td>\n",
       "      <td>1.086620</td>\n",
       "      <td>-0.000434</td>\n",
       "      <td>-0.000355</td>\n",
       "      <td>-0.000682</td>\n",
       "      <td>0.000323</td>\n",
       "      <td>-0.000037</td>\n",
       "      <td>0.000222</td>\n",
       "      <td>0.000191</td>\n",
       "      <td>0.000238</td>\n",
       "      <td>24.979049</td>\n",
       "      <td>17.740466</td>\n",
       "      <td>25.472793</td>\n",
       "      <td>52.998724</td>\n",
       "      <td>9.259259</td>\n",
       "      <td>61.818235</td>\n",
       "      <td>0.000497</td>\n",
       "      <td>66.281541</td>\n",
       "      <td>78.900344</td>\n",
       "      <td>0.002990</td>\n",
       "      <td>58.627664</td>\n",
       "      <td>53.858168</td>\n",
       "      <td>59.736626</td>\n",
       "      <td>0.003311</td>\n",
       "      <td>0.002582</td>\n",
       "      <td>0.002997</td>\n",
       "      <td>0.167805</td>\n",
       "      <td>0.176833</td>\n",
       "      <td>0.610214</td>\n",
       "      <td>0.037696</td>\n",
       "      <td>0.00002</td>\n",
       "      <td>-0.00034</td>\n",
       "      <td>-0.00032</td>\n",
       "      <td>2</td>\n",
       "      <td>NaN</td>\n",
       "      <td>NaN</td>\n",
       "      <td>NaN</td>\n",
       "      <td>NaN</td>\n",
       "    </tr>\n",
       "  </tbody>\n",
       "</table>\n",
       "</div>"
      ],
      "text/plain": [
       "                       Time     Open     High      Low    Close  Volume  \\\n",
       "199695  2023-07-06 18:35:00  1.08821  1.08824  1.08803  1.08813     393   \n",
       "199696  2023-07-06 18:40:00  1.08812  1.08833  1.08802  1.08832     882   \n",
       "199697  2023-07-06 18:45:00  1.08833  1.08846  1.08823  1.08844     896   \n",
       "199698  2023-07-06 18:50:00  1.08843  1.08856  1.08836  1.08839     780   \n",
       "199699  2023-07-06 18:55:00  1.08839  1.08841  1.08805  1.08807     823   \n",
       "\n",
       "           Media  Media_ema_150  Close_ema_50  Close_ema_100  Close_ema_20  \\\n",
       "199695  1.088135       1.086985      1.087499       1.087219      1.087815   \n",
       "199696  1.088175       1.087001      1.087531       1.087241      1.087863   \n",
       "199697  1.088345       1.087019      1.087567       1.087265      1.087918   \n",
       "199698  1.088460       1.087038      1.087599       1.087287      1.087963   \n",
       "199699  1.088230       1.087054      1.087618       1.087302      1.087973   \n",
       "\n",
       "        Media_wma_300  diferencia_150_300  diferencia_20_50  \\\n",
       "199695       1.086561           -0.000424         -0.000315   \n",
       "199696       1.086575           -0.000426         -0.000331   \n",
       "199697       1.086590           -0.000429         -0.000351   \n",
       "199698       1.086606           -0.000432         -0.000363   \n",
       "199699       1.086620           -0.000434         -0.000355   \n",
       "\n",
       "        diferencia_100_300  BullsPower_13  BearsPower_13  Low_StdDev_20  \\\n",
       "199695           -0.000658       0.000325       0.000115       0.000228   \n",
       "199696           -0.000666       0.000357       0.000047       0.000213   \n",
       "199697           -0.000675       0.000421       0.000191       0.000219   \n",
       "199698           -0.000681       0.000471       0.000271       0.000223   \n",
       "199699           -0.000682       0.000323      -0.000037       0.000222   \n",
       "\n",
       "        High_StdDev_20  Close_StdDev_20  adx_14_adx  adx_14neg  adx_14pos  \\\n",
       "199695        0.000211         0.000236   23.055693  14.125735  24.818278   \n",
       "199696        0.000196         0.000247   23.616403  13.239138  25.082767   \n",
       "199697        0.000189         0.000238   24.476968  12.606910  26.584121   \n",
       "199698        0.000196         0.000248   25.524098  12.067262  27.586454   \n",
       "199699        0.000191         0.000238   24.979049  17.740466  25.472793   \n",
       "\n",
       "        Close_cci_14  stochastic_5_3stoch  stochastic_5_3signal   ao_5_34  \\\n",
       "199695    131.014493            78.431373             62.810458  0.000286   \n",
       "199696    159.008198            98.333333             92.254902  0.000306   \n",
       "199697    186.958966            97.183099             91.315935  0.000361   \n",
       "199698    165.001998            79.012346             91.509593  0.000446   \n",
       "199699     52.998724             9.259259             61.818235  0.000497   \n",
       "\n",
       "        Low_cci_14  High_cci_14  Close_trix_14  Low_rsi_14  Close_rsi_14  \\\n",
       "199695  159.179416   134.140436       0.002852   62.470629     57.418515   \n",
       "199696  140.966123   145.757180       0.002858   62.160062     60.137159   \n",
       "199697  183.432343   184.775936       0.002916   65.984446     61.796176   \n",
       "199698  174.015849   176.788180       0.002989   68.131679     60.663301   \n",
       "199699   66.281541    78.900344       0.002990   58.627664     53.858168   \n",
       "\n",
       "        High_rsi_14  Low_trix_14  High_trix_14  Open_trix_14  \\\n",
       "199695    58.430560     0.003339      0.002466      0.002918   \n",
       "199696    60.141288     0.003269      0.002441      0.002869   \n",
       "199697    62.539388     0.003257      0.002463      0.002874   \n",
       "199698    64.317818     0.003303      0.002529      0.002928   \n",
       "199699    59.736626     0.003311      0.002582      0.002997   \n",
       "\n",
       "        Close_stochrsi_14  Low_stochrsi_14  High_stochrsi_14  Close_roc_14  \\\n",
       "199695           0.628063         0.943768          0.840836      0.020222   \n",
       "199696           0.958907         0.898872          1.000000      0.064361   \n",
       "199697           1.000000         1.000000          1.000000      0.029409   \n",
       "199698           0.881233         1.000000          1.000000      0.045961   \n",
       "199699           0.167805         0.176833          0.610214      0.037696   \n",
       "\n",
       "            H/O      L/O      C/O  cluster  picos_minimos_close  \\\n",
       "199695  0.00003 -0.00018 -0.00008        0                  NaN   \n",
       "199696  0.00021 -0.00010  0.00020        5                  NaN   \n",
       "199697  0.00013 -0.00010  0.00011        0                  NaN   \n",
       "199698  0.00013 -0.00007 -0.00004        0                  NaN   \n",
       "199699  0.00002 -0.00034 -0.00032        2                  NaN   \n",
       "\n",
       "        picos_maximos_close  picos_minimos_low  picos_maximos_high  \n",
       "199695                  NaN                NaN                 NaN  \n",
       "199696                  NaN                NaN                 NaN  \n",
       "199697              1.08844                NaN                 NaN  \n",
       "199698                  NaN                NaN             1.08856  \n",
       "199699                  NaN                NaN                 NaN  "
      ]
     },
     "execution_count": 15,
     "metadata": {},
     "output_type": "execute_result"
    }
   ],
   "source": [
    "import pandas as pd #manipulación y el análisis de datos en el lenguaje Python\n",
    "data = pd.read_csv('EURUSD_M5_Indicadores.csv')\n",
    "pd.options.display.max_columns = None\n",
    "start_index = 300  # Índice inicial deseado en data\n",
    "data = data.drop('Unnamed: 0', axis=1)\n",
    "data.tail() # Muestra las ultimas filas de datos en el lenguaje Python"
   ]
  },
  {
   "cell_type": "code",
   "execution_count": null,
   "metadata": {},
   "outputs": [
    {
     "data": {
      "text/html": [
       "<div>\n",
       "<style scoped>\n",
       "    .dataframe tbody tr th:only-of-type {\n",
       "        vertical-align: middle;\n",
       "    }\n",
       "\n",
       "    .dataframe tbody tr th {\n",
       "        vertical-align: top;\n",
       "    }\n",
       "\n",
       "    .dataframe thead th {\n",
       "        text-align: right;\n",
       "    }\n",
       "</style>\n",
       "<table border=\"1\" class=\"dataframe\">\n",
       "  <thead>\n",
       "    <tr style=\"text-align: right;\">\n",
       "      <th></th>\n",
       "      <th>Time</th>\n",
       "      <th>Open</th>\n",
       "      <th>High</th>\n",
       "      <th>Low</th>\n",
       "      <th>Close</th>\n",
       "      <th>Volume</th>\n",
       "      <th>Media</th>\n",
       "      <th>Media_ema_150</th>\n",
       "      <th>Close_ema_50</th>\n",
       "      <th>Close_ema_100</th>\n",
       "      <th>Close_ema_20</th>\n",
       "      <th>Media_wma_300</th>\n",
       "      <th>diferencia_150_300</th>\n",
       "      <th>diferencia_20_50</th>\n",
       "      <th>diferencia_100_300</th>\n",
       "      <th>BullsPower_13</th>\n",
       "      <th>BearsPower_13</th>\n",
       "      <th>Low_StdDev_20</th>\n",
       "      <th>High_StdDev_20</th>\n",
       "      <th>Close_StdDev_20</th>\n",
       "      <th>adx_14_adx</th>\n",
       "      <th>adx_14neg</th>\n",
       "      <th>adx_14pos</th>\n",
       "      <th>Close_cci_14</th>\n",
       "      <th>stochastic_5_3stoch</th>\n",
       "      <th>stochastic_5_3signal</th>\n",
       "      <th>ao_5_34</th>\n",
       "      <th>Low_cci_14</th>\n",
       "      <th>High_cci_14</th>\n",
       "      <th>Close_trix_14</th>\n",
       "      <th>Low_rsi_14</th>\n",
       "      <th>Close_rsi_14</th>\n",
       "      <th>High_rsi_14</th>\n",
       "      <th>Low_trix_14</th>\n",
       "      <th>High_trix_14</th>\n",
       "      <th>Open_trix_14</th>\n",
       "      <th>Close_stochrsi_14</th>\n",
       "      <th>Low_stochrsi_14</th>\n",
       "      <th>High_stochrsi_14</th>\n",
       "      <th>Close_roc_14</th>\n",
       "      <th>H/O</th>\n",
       "      <th>L/O</th>\n",
       "      <th>C/O</th>\n",
       "      <th>cluster</th>\n",
       "      <th>picos_minimos_close</th>\n",
       "      <th>picos_maximos_close</th>\n",
       "      <th>picos_minimos_low</th>\n",
       "      <th>picos_maximos_high</th>\n",
       "    </tr>\n",
       "  </thead>\n",
       "  <tbody>\n",
       "    <tr>\n",
       "      <th>199695</th>\n",
       "      <td>2023-07-06 18:35:00</td>\n",
       "      <td>1.08821</td>\n",
       "      <td>1.08824</td>\n",
       "      <td>1.08803</td>\n",
       "      <td>1.08813</td>\n",
       "      <td>393</td>\n",
       "      <td>1.088135</td>\n",
       "      <td>1.086985</td>\n",
       "      <td>1.087499</td>\n",
       "      <td>1.087219</td>\n",
       "      <td>1.087815</td>\n",
       "      <td>1.086561</td>\n",
       "      <td>-0.000424</td>\n",
       "      <td>-0.000315</td>\n",
       "      <td>-0.000658</td>\n",
       "      <td>0.000325</td>\n",
       "      <td>0.000115</td>\n",
       "      <td>0.000228</td>\n",
       "      <td>0.000211</td>\n",
       "      <td>0.000236</td>\n",
       "      <td>23.055693</td>\n",
       "      <td>14.125735</td>\n",
       "      <td>24.818278</td>\n",
       "      <td>131.014493</td>\n",
       "      <td>78.431373</td>\n",
       "      <td>62.810458</td>\n",
       "      <td>0.000286</td>\n",
       "      <td>159.179416</td>\n",
       "      <td>134.140436</td>\n",
       "      <td>0.002852</td>\n",
       "      <td>62.470629</td>\n",
       "      <td>57.418515</td>\n",
       "      <td>58.430560</td>\n",
       "      <td>0.003339</td>\n",
       "      <td>0.002466</td>\n",
       "      <td>0.002918</td>\n",
       "      <td>0.628063</td>\n",
       "      <td>0.943768</td>\n",
       "      <td>0.840836</td>\n",
       "      <td>0.020222</td>\n",
       "      <td>0.00003</td>\n",
       "      <td>-0.00018</td>\n",
       "      <td>-0.00008</td>\n",
       "      <td>0</td>\n",
       "      <td>NaN</td>\n",
       "      <td>NaN</td>\n",
       "      <td>NaN</td>\n",
       "      <td>NaN</td>\n",
       "    </tr>\n",
       "    <tr>\n",
       "      <th>199696</th>\n",
       "      <td>2023-07-06 18:40:00</td>\n",
       "      <td>1.08812</td>\n",
       "      <td>1.08833</td>\n",
       "      <td>1.08802</td>\n",
       "      <td>1.08832</td>\n",
       "      <td>882</td>\n",
       "      <td>1.088175</td>\n",
       "      <td>1.087001</td>\n",
       "      <td>1.087531</td>\n",
       "      <td>1.087241</td>\n",
       "      <td>1.087863</td>\n",
       "      <td>1.086575</td>\n",
       "      <td>-0.000426</td>\n",
       "      <td>-0.000331</td>\n",
       "      <td>-0.000666</td>\n",
       "      <td>0.000357</td>\n",
       "      <td>0.000047</td>\n",
       "      <td>0.000213</td>\n",
       "      <td>0.000196</td>\n",
       "      <td>0.000247</td>\n",
       "      <td>23.616403</td>\n",
       "      <td>13.239138</td>\n",
       "      <td>25.082767</td>\n",
       "      <td>159.008198</td>\n",
       "      <td>98.333333</td>\n",
       "      <td>92.254902</td>\n",
       "      <td>0.000306</td>\n",
       "      <td>140.966123</td>\n",
       "      <td>145.757180</td>\n",
       "      <td>0.002858</td>\n",
       "      <td>62.160062</td>\n",
       "      <td>60.137159</td>\n",
       "      <td>60.141288</td>\n",
       "      <td>0.003269</td>\n",
       "      <td>0.002441</td>\n",
       "      <td>0.002869</td>\n",
       "      <td>0.958907</td>\n",
       "      <td>0.898872</td>\n",
       "      <td>1.000000</td>\n",
       "      <td>0.064361</td>\n",
       "      <td>0.00021</td>\n",
       "      <td>-0.00010</td>\n",
       "      <td>0.00020</td>\n",
       "      <td>5</td>\n",
       "      <td>NaN</td>\n",
       "      <td>NaN</td>\n",
       "      <td>NaN</td>\n",
       "      <td>NaN</td>\n",
       "    </tr>\n",
       "    <tr>\n",
       "      <th>199697</th>\n",
       "      <td>2023-07-06 18:45:00</td>\n",
       "      <td>1.08833</td>\n",
       "      <td>1.08846</td>\n",
       "      <td>1.08823</td>\n",
       "      <td>1.08844</td>\n",
       "      <td>896</td>\n",
       "      <td>1.088345</td>\n",
       "      <td>1.087019</td>\n",
       "      <td>1.087567</td>\n",
       "      <td>1.087265</td>\n",
       "      <td>1.087918</td>\n",
       "      <td>1.086590</td>\n",
       "      <td>-0.000429</td>\n",
       "      <td>-0.000351</td>\n",
       "      <td>-0.000675</td>\n",
       "      <td>0.000421</td>\n",
       "      <td>0.000191</td>\n",
       "      <td>0.000219</td>\n",
       "      <td>0.000189</td>\n",
       "      <td>0.000238</td>\n",
       "      <td>24.476968</td>\n",
       "      <td>12.606910</td>\n",
       "      <td>26.584121</td>\n",
       "      <td>186.958966</td>\n",
       "      <td>97.183099</td>\n",
       "      <td>91.315935</td>\n",
       "      <td>0.000361</td>\n",
       "      <td>183.432343</td>\n",
       "      <td>184.775936</td>\n",
       "      <td>0.002916</td>\n",
       "      <td>65.984446</td>\n",
       "      <td>61.796176</td>\n",
       "      <td>62.539388</td>\n",
       "      <td>0.003257</td>\n",
       "      <td>0.002463</td>\n",
       "      <td>0.002874</td>\n",
       "      <td>1.000000</td>\n",
       "      <td>1.000000</td>\n",
       "      <td>1.000000</td>\n",
       "      <td>0.029409</td>\n",
       "      <td>0.00013</td>\n",
       "      <td>-0.00010</td>\n",
       "      <td>0.00011</td>\n",
       "      <td>0</td>\n",
       "      <td>NaN</td>\n",
       "      <td>1.08844</td>\n",
       "      <td>NaN</td>\n",
       "      <td>NaN</td>\n",
       "    </tr>\n",
       "    <tr>\n",
       "      <th>199698</th>\n",
       "      <td>2023-07-06 18:50:00</td>\n",
       "      <td>1.08843</td>\n",
       "      <td>1.08856</td>\n",
       "      <td>1.08836</td>\n",
       "      <td>1.08839</td>\n",
       "      <td>780</td>\n",
       "      <td>1.088460</td>\n",
       "      <td>1.087038</td>\n",
       "      <td>1.087599</td>\n",
       "      <td>1.087287</td>\n",
       "      <td>1.087963</td>\n",
       "      <td>1.086606</td>\n",
       "      <td>-0.000432</td>\n",
       "      <td>-0.000363</td>\n",
       "      <td>-0.000681</td>\n",
       "      <td>0.000471</td>\n",
       "      <td>0.000271</td>\n",
       "      <td>0.000223</td>\n",
       "      <td>0.000196</td>\n",
       "      <td>0.000248</td>\n",
       "      <td>25.524098</td>\n",
       "      <td>12.067262</td>\n",
       "      <td>27.586454</td>\n",
       "      <td>165.001998</td>\n",
       "      <td>79.012346</td>\n",
       "      <td>91.509593</td>\n",
       "      <td>0.000446</td>\n",
       "      <td>174.015849</td>\n",
       "      <td>176.788180</td>\n",
       "      <td>0.002989</td>\n",
       "      <td>68.131679</td>\n",
       "      <td>60.663301</td>\n",
       "      <td>64.317818</td>\n",
       "      <td>0.003303</td>\n",
       "      <td>0.002529</td>\n",
       "      <td>0.002928</td>\n",
       "      <td>0.881233</td>\n",
       "      <td>1.000000</td>\n",
       "      <td>1.000000</td>\n",
       "      <td>0.045961</td>\n",
       "      <td>0.00013</td>\n",
       "      <td>-0.00007</td>\n",
       "      <td>-0.00004</td>\n",
       "      <td>0</td>\n",
       "      <td>NaN</td>\n",
       "      <td>NaN</td>\n",
       "      <td>NaN</td>\n",
       "      <td>1.08856</td>\n",
       "    </tr>\n",
       "    <tr>\n",
       "      <th>199699</th>\n",
       "      <td>2023-07-06 18:55:00</td>\n",
       "      <td>1.08839</td>\n",
       "      <td>1.08841</td>\n",
       "      <td>1.08805</td>\n",
       "      <td>1.08807</td>\n",
       "      <td>823</td>\n",
       "      <td>1.088230</td>\n",
       "      <td>1.087054</td>\n",
       "      <td>1.087618</td>\n",
       "      <td>1.087302</td>\n",
       "      <td>1.087973</td>\n",
       "      <td>1.086620</td>\n",
       "      <td>-0.000434</td>\n",
       "      <td>-0.000355</td>\n",
       "      <td>-0.000682</td>\n",
       "      <td>0.000323</td>\n",
       "      <td>-0.000037</td>\n",
       "      <td>0.000222</td>\n",
       "      <td>0.000191</td>\n",
       "      <td>0.000238</td>\n",
       "      <td>24.979049</td>\n",
       "      <td>17.740466</td>\n",
       "      <td>25.472793</td>\n",
       "      <td>52.998724</td>\n",
       "      <td>9.259259</td>\n",
       "      <td>61.818235</td>\n",
       "      <td>0.000497</td>\n",
       "      <td>66.281541</td>\n",
       "      <td>78.900344</td>\n",
       "      <td>0.002990</td>\n",
       "      <td>58.627664</td>\n",
       "      <td>53.858168</td>\n",
       "      <td>59.736626</td>\n",
       "      <td>0.003311</td>\n",
       "      <td>0.002582</td>\n",
       "      <td>0.002997</td>\n",
       "      <td>0.167805</td>\n",
       "      <td>0.176833</td>\n",
       "      <td>0.610214</td>\n",
       "      <td>0.037696</td>\n",
       "      <td>0.00002</td>\n",
       "      <td>-0.00034</td>\n",
       "      <td>-0.00032</td>\n",
       "      <td>2</td>\n",
       "      <td>NaN</td>\n",
       "      <td>NaN</td>\n",
       "      <td>NaN</td>\n",
       "      <td>NaN</td>\n",
       "    </tr>\n",
       "  </tbody>\n",
       "</table>\n",
       "</div>"
      ],
      "text/plain": [
       "                       Time     Open     High      Low    Close  Volume  \\\n",
       "199695  2023-07-06 18:35:00  1.08821  1.08824  1.08803  1.08813     393   \n",
       "199696  2023-07-06 18:40:00  1.08812  1.08833  1.08802  1.08832     882   \n",
       "199697  2023-07-06 18:45:00  1.08833  1.08846  1.08823  1.08844     896   \n",
       "199698  2023-07-06 18:50:00  1.08843  1.08856  1.08836  1.08839     780   \n",
       "199699  2023-07-06 18:55:00  1.08839  1.08841  1.08805  1.08807     823   \n",
       "\n",
       "           Media  Media_ema_150  Close_ema_50  Close_ema_100  Close_ema_20  \\\n",
       "199695  1.088135       1.086985      1.087499       1.087219      1.087815   \n",
       "199696  1.088175       1.087001      1.087531       1.087241      1.087863   \n",
       "199697  1.088345       1.087019      1.087567       1.087265      1.087918   \n",
       "199698  1.088460       1.087038      1.087599       1.087287      1.087963   \n",
       "199699  1.088230       1.087054      1.087618       1.087302      1.087973   \n",
       "\n",
       "        Media_wma_300  diferencia_150_300  diferencia_20_50  \\\n",
       "199695       1.086561           -0.000424         -0.000315   \n",
       "199696       1.086575           -0.000426         -0.000331   \n",
       "199697       1.086590           -0.000429         -0.000351   \n",
       "199698       1.086606           -0.000432         -0.000363   \n",
       "199699       1.086620           -0.000434         -0.000355   \n",
       "\n",
       "        diferencia_100_300  BullsPower_13  BearsPower_13  Low_StdDev_20  \\\n",
       "199695           -0.000658       0.000325       0.000115       0.000228   \n",
       "199696           -0.000666       0.000357       0.000047       0.000213   \n",
       "199697           -0.000675       0.000421       0.000191       0.000219   \n",
       "199698           -0.000681       0.000471       0.000271       0.000223   \n",
       "199699           -0.000682       0.000323      -0.000037       0.000222   \n",
       "\n",
       "        High_StdDev_20  Close_StdDev_20  adx_14_adx  adx_14neg  adx_14pos  \\\n",
       "199695        0.000211         0.000236   23.055693  14.125735  24.818278   \n",
       "199696        0.000196         0.000247   23.616403  13.239138  25.082767   \n",
       "199697        0.000189         0.000238   24.476968  12.606910  26.584121   \n",
       "199698        0.000196         0.000248   25.524098  12.067262  27.586454   \n",
       "199699        0.000191         0.000238   24.979049  17.740466  25.472793   \n",
       "\n",
       "        Close_cci_14  stochastic_5_3stoch  stochastic_5_3signal   ao_5_34  \\\n",
       "199695    131.014493            78.431373             62.810458  0.000286   \n",
       "199696    159.008198            98.333333             92.254902  0.000306   \n",
       "199697    186.958966            97.183099             91.315935  0.000361   \n",
       "199698    165.001998            79.012346             91.509593  0.000446   \n",
       "199699     52.998724             9.259259             61.818235  0.000497   \n",
       "\n",
       "        Low_cci_14  High_cci_14  Close_trix_14  Low_rsi_14  Close_rsi_14  \\\n",
       "199695  159.179416   134.140436       0.002852   62.470629     57.418515   \n",
       "199696  140.966123   145.757180       0.002858   62.160062     60.137159   \n",
       "199697  183.432343   184.775936       0.002916   65.984446     61.796176   \n",
       "199698  174.015849   176.788180       0.002989   68.131679     60.663301   \n",
       "199699   66.281541    78.900344       0.002990   58.627664     53.858168   \n",
       "\n",
       "        High_rsi_14  Low_trix_14  High_trix_14  Open_trix_14  \\\n",
       "199695    58.430560     0.003339      0.002466      0.002918   \n",
       "199696    60.141288     0.003269      0.002441      0.002869   \n",
       "199697    62.539388     0.003257      0.002463      0.002874   \n",
       "199698    64.317818     0.003303      0.002529      0.002928   \n",
       "199699    59.736626     0.003311      0.002582      0.002997   \n",
       "\n",
       "        Close_stochrsi_14  Low_stochrsi_14  High_stochrsi_14  Close_roc_14  \\\n",
       "199695           0.628063         0.943768          0.840836      0.020222   \n",
       "199696           0.958907         0.898872          1.000000      0.064361   \n",
       "199697           1.000000         1.000000          1.000000      0.029409   \n",
       "199698           0.881233         1.000000          1.000000      0.045961   \n",
       "199699           0.167805         0.176833          0.610214      0.037696   \n",
       "\n",
       "            H/O      L/O      C/O  cluster  picos_minimos_close  \\\n",
       "199695  0.00003 -0.00018 -0.00008        0                  NaN   \n",
       "199696  0.00021 -0.00010  0.00020        5                  NaN   \n",
       "199697  0.00013 -0.00010  0.00011        0                  NaN   \n",
       "199698  0.00013 -0.00007 -0.00004        0                  NaN   \n",
       "199699  0.00002 -0.00034 -0.00032        2                  NaN   \n",
       "\n",
       "        picos_maximos_close  picos_minimos_low  picos_maximos_high  \n",
       "199695                  NaN                NaN                 NaN  \n",
       "199696                  NaN                NaN                 NaN  \n",
       "199697              1.08844                NaN                 NaN  \n",
       "199698                  NaN                NaN             1.08856  \n",
       "199699                  NaN                NaN                 NaN  "
      ]
     },
     "execution_count": 16,
     "metadata": {},
     "output_type": "execute_result"
    }
   ],
   "source": [
    "#Check if NA values are in data\n",
    "data=data[data['Volume']!=0]\n",
    "data.reset_index(drop=True, inplace=True) #Esta línea reinicia los índices del DataFrame \"data\" después de eliminar algunas filas en el paso anterior. El argumento drop=True indica que los índices anteriores se eliminarán y se crearán nuevos índices numéricos secuenciales a partir de cero. El argumento inplace=True realiza el cambio directamente en el DataFrame \"data\" sin crear una nueva copia. Después de esta operación, el DataFrame \"data\" tiene índices ordenados secuencialmente a partir de cero.\n",
    "data.isna().sum() #Esta línea calcula la suma de valores faltantes (NaN) para cada columna del DataFrame \"data\". La función isna() crea un DataFrame booleano con el mismo tamaño que \"data\", donde cada celda es True si el valor es NaN y False si el valor no es NaN. Luego, la función sum() se aplica a este DataFrame booleano, lo que sumará los valores True en cada columna, contando la cantidad de valores NaN en cada una.\n",
    "data.tail() #Esta línea muestra las últimas filas del DataFrame \"data\". Por defecto, muestra las últimas 5 filas, pero si se desea ver más filas, se puede especificar el número deseado dentro del paréntesis, por ejemplo: data.tail(10) para mostrar las últimas 10 filas."
   ]
  },
  {
   "cell_type": "code",
   "execution_count": null,
   "metadata": {},
   "outputs": [],
   "source": [
    "#La función support(df1, l, n1, n2) tiene como objetivo buscar patrones de soporte en una vela específica (fila) de un DataFrame de pandas llamado \"df1\".\n",
    "\n",
    "#La función toma los siguientes argumentos:\n",
    "\n",
    "#df1: DataFrame que contiene los datos.\n",
    "#l: Índice de la fila (vela) a analizar en el DataFrame.\n",
    "#n1: Cantidad de velas hacia atrás que se consideran para buscar un patrón de soporte.\n",
    "#n2: Cantidad de velas hacia adelante que se consideran para buscar un patrón de soporte.\n",
    "#La función realiza lo siguiente:\n",
    "\n",
    "# Verifica que los valores de la columna \"low\" (precios mínimos) en las n1 velas previas a la vela l \n",
    "# sean iguales o menores que el valor en la vela anterior a ellas (i-1). Si en algún momento encuentra \n",
    "# que df1.low[i] es mayor que df1.low[i-1], la función retorna 0, lo que indica que no se encontró un \n",
    "# patrón de soporte válido en esa dirección.\n",
    "# Luego, verifica que los valores de la columna \"low\" en las n2 velas posteriores a la vela l \n",
    "# sean iguales o menores que el valor en la vela anterior a ellas (i-1). Si en algún momento \n",
    "# encuentra que df1.low[i] es menor que df1.low[i-1], la función retorna 0, lo que indica que \n",
    "# no se encontró un patrón de soporte válido en esa dirección.\n",
    "# Si la función no ha retornado 0 después de las dos verificaciones, significa que los precios mínimos \n",
    "# en las n1 velas previas y las n2 velas posteriores a la vela l forman un patrón de soporte válido. \n",
    "# En este caso, la función retorna 1, lo que indica que se encontró un patrón de soporte.\n",
    "# En resumen, la función support verifica si las n1 velas previas y las n2 velas posteriores a una \n",
    "# vela específica (l) tienen precios mínimos crecientes, lo que indicaría un posible patrón de soporte. \n",
    "#Si se encuentra un patrón de soporte válido, la función retorna 1; de lo contrario, retorna 0.\n",
    "\n",
    "\n",
    "def support(df1, l, n1, n2): #n1 n2 antes y después de la vela l\n",
    "    for i in range(l-n1+1, l+1):\n",
    "        if(df1.Low[i]>df1.Low[i-1]):\n",
    "            return 0\n",
    "    for i in range(l+1,l+n2+1):\n",
    "        if(df1.Low[i]<df1.Low[i-1]):\n",
    "            return 0\n",
    "    return 1\n",
    "\n",
    "#support(df,46,3,2)\n",
    "\n",
    "def resistance(df1, l, n1, n2): #n1 n2 antes y después de la vela l\n",
    "    for i in range(l-n1+1, l+1):\n",
    "        if(df1.High[i]<df1.High[i-1]):\n",
    "            return 0\n",
    "    for i in range(l+1,l+n2+1):\n",
    "        if(df1.High[i]>df1.High[i-1]):\n",
    "            return 0\n",
    "    return 1\n",
    "#resistance(df, 30, 3, 5)"
   ]
  },
  {
   "cell_type": "code",
   "execution_count": null,
   "metadata": {},
   "outputs": [
    {
     "data": {
      "application/vnd.plotly.v1+json": {
       "config": {
        "plotlyServerURL": "https://plot.ly"
       },
       "data": [
        {
         "close": [
          1.18023,
          1.18002,
          1.18075,
          1.18113,
          1.18038,
          1.18003,
          1.18056,
          1.18078,
          1.18104,
          1.18082,
          1.18101,
          1.18089,
          1.18112,
          1.1813,
          1.18132,
          1.18102,
          1.18065,
          1.18094,
          1.18125,
          1.18184,
          1.1826,
          1.18282,
          1.18325,
          1.18299,
          1.18377,
          1.18402,
          1.18332,
          1.1845,
          1.18431,
          1.18492,
          1.18538,
          1.18435,
          1.18442,
          1.18353,
          1.18396,
          1.18316,
          1.18383,
          1.18392,
          1.18396,
          1.18391,
          1.18345,
          1.18271,
          1.18296,
          1.18227,
          1.18224,
          1.18294,
          1.1829,
          1.18338,
          1.18361,
          1.18247
         ],
         "high": [
          1.18058,
          1.18039,
          1.18077,
          1.18114,
          1.18121,
          1.18084,
          1.18066,
          1.18088,
          1.18112,
          1.18106,
          1.18121,
          1.18134,
          1.18145,
          1.1813,
          1.18143,
          1.18137,
          1.18125,
          1.1813,
          1.1813,
          1.18192,
          1.18281,
          1.18285,
          1.18356,
          1.18331,
          1.18379,
          1.18406,
          1.18467,
          1.18466,
          1.18465,
          1.18498,
          1.18596,
          1.18554,
          1.18454,
          1.18449,
          1.18422,
          1.18416,
          1.18385,
          1.18468,
          1.18453,
          1.18416,
          1.18398,
          1.18348,
          1.18305,
          1.18302,
          1.18241,
          1.18297,
          1.18339,
          1.18338,
          1.18369,
          1.18384
         ],
         "low": [
          1.17986,
          1.17981,
          1.17991,
          1.18041,
          1.18038,
          1.18001,
          1.18,
          1.18031,
          1.18044,
          1.18046,
          1.18077,
          1.18075,
          1.18083,
          1.18095,
          1.18087,
          1.18097,
          1.18054,
          1.18066,
          1.18091,
          1.18124,
          1.18174,
          1.18237,
          1.18273,
          1.18282,
          1.18282,
          1.1834,
          1.18332,
          1.1832,
          1.18415,
          1.18412,
          1.18467,
          1.18418,
          1.18423,
          1.18351,
          1.18337,
          1.18313,
          1.1831,
          1.18362,
          1.18381,
          1.18335,
          1.18334,
          1.18255,
          1.18267,
          1.18226,
          1.18184,
          1.18223,
          1.18268,
          1.18276,
          1.1829,
          1.18242
         ],
         "open": [
          1.18018,
          1.18023,
          1.18004,
          1.18074,
          1.18114,
          1.18038,
          1.18001,
          1.18056,
          1.18077,
          1.18105,
          1.18082,
          1.18101,
          1.18089,
          1.1811,
          1.18137,
          1.18131,
          1.18101,
          1.18066,
          1.18095,
          1.18124,
          1.18183,
          1.18259,
          1.18281,
          1.18326,
          1.18299,
          1.18378,
          1.18402,
          1.18332,
          1.18451,
          1.1843,
          1.18491,
          1.18541,
          1.18436,
          1.18446,
          1.18353,
          1.18396,
          1.18318,
          1.18382,
          1.18394,
          1.18398,
          1.18391,
          1.18344,
          1.18269,
          1.18295,
          1.18228,
          1.18225,
          1.18295,
          1.18289,
          1.18336,
          1.18361
         ],
         "type": "candlestick",
         "x": [
          0,
          1,
          2,
          3,
          4,
          5,
          6,
          7,
          8,
          9,
          10,
          11,
          12,
          13,
          14,
          15,
          16,
          17,
          18,
          19,
          20,
          21,
          22,
          23,
          24,
          25,
          26,
          27,
          28,
          29,
          30,
          31,
          32,
          33,
          34,
          35,
          36,
          37,
          38,
          39,
          40,
          41,
          42,
          43,
          44,
          45,
          46,
          47,
          48,
          49
         ]
        }
       ],
       "layout": {
        "template": {
         "data": {
          "bar": [
           {
            "error_x": {
             "color": "#2a3f5f"
            },
            "error_y": {
             "color": "#2a3f5f"
            },
            "marker": {
             "line": {
              "color": "#E5ECF6",
              "width": 0.5
             },
             "pattern": {
              "fillmode": "overlay",
              "size": 10,
              "solidity": 0.2
             }
            },
            "type": "bar"
           }
          ],
          "barpolar": [
           {
            "marker": {
             "line": {
              "color": "#E5ECF6",
              "width": 0.5
             },
             "pattern": {
              "fillmode": "overlay",
              "size": 10,
              "solidity": 0.2
             }
            },
            "type": "barpolar"
           }
          ],
          "carpet": [
           {
            "aaxis": {
             "endlinecolor": "#2a3f5f",
             "gridcolor": "white",
             "linecolor": "white",
             "minorgridcolor": "white",
             "startlinecolor": "#2a3f5f"
            },
            "baxis": {
             "endlinecolor": "#2a3f5f",
             "gridcolor": "white",
             "linecolor": "white",
             "minorgridcolor": "white",
             "startlinecolor": "#2a3f5f"
            },
            "type": "carpet"
           }
          ],
          "choropleth": [
           {
            "colorbar": {
             "outlinewidth": 0,
             "ticks": ""
            },
            "type": "choropleth"
           }
          ],
          "contour": [
           {
            "colorbar": {
             "outlinewidth": 0,
             "ticks": ""
            },
            "colorscale": [
             [
              0,
              "#0d0887"
             ],
             [
              0.1111111111111111,
              "#46039f"
             ],
             [
              0.2222222222222222,
              "#7201a8"
             ],
             [
              0.3333333333333333,
              "#9c179e"
             ],
             [
              0.4444444444444444,
              "#bd3786"
             ],
             [
              0.5555555555555556,
              "#d8576b"
             ],
             [
              0.6666666666666666,
              "#ed7953"
             ],
             [
              0.7777777777777778,
              "#fb9f3a"
             ],
             [
              0.8888888888888888,
              "#fdca26"
             ],
             [
              1,
              "#f0f921"
             ]
            ],
            "type": "contour"
           }
          ],
          "contourcarpet": [
           {
            "colorbar": {
             "outlinewidth": 0,
             "ticks": ""
            },
            "type": "contourcarpet"
           }
          ],
          "heatmap": [
           {
            "colorbar": {
             "outlinewidth": 0,
             "ticks": ""
            },
            "colorscale": [
             [
              0,
              "#0d0887"
             ],
             [
              0.1111111111111111,
              "#46039f"
             ],
             [
              0.2222222222222222,
              "#7201a8"
             ],
             [
              0.3333333333333333,
              "#9c179e"
             ],
             [
              0.4444444444444444,
              "#bd3786"
             ],
             [
              0.5555555555555556,
              "#d8576b"
             ],
             [
              0.6666666666666666,
              "#ed7953"
             ],
             [
              0.7777777777777778,
              "#fb9f3a"
             ],
             [
              0.8888888888888888,
              "#fdca26"
             ],
             [
              1,
              "#f0f921"
             ]
            ],
            "type": "heatmap"
           }
          ],
          "heatmapgl": [
           {
            "colorbar": {
             "outlinewidth": 0,
             "ticks": ""
            },
            "colorscale": [
             [
              0,
              "#0d0887"
             ],
             [
              0.1111111111111111,
              "#46039f"
             ],
             [
              0.2222222222222222,
              "#7201a8"
             ],
             [
              0.3333333333333333,
              "#9c179e"
             ],
             [
              0.4444444444444444,
              "#bd3786"
             ],
             [
              0.5555555555555556,
              "#d8576b"
             ],
             [
              0.6666666666666666,
              "#ed7953"
             ],
             [
              0.7777777777777778,
              "#fb9f3a"
             ],
             [
              0.8888888888888888,
              "#fdca26"
             ],
             [
              1,
              "#f0f921"
             ]
            ],
            "type": "heatmapgl"
           }
          ],
          "histogram": [
           {
            "marker": {
             "pattern": {
              "fillmode": "overlay",
              "size": 10,
              "solidity": 0.2
             }
            },
            "type": "histogram"
           }
          ],
          "histogram2d": [
           {
            "colorbar": {
             "outlinewidth": 0,
             "ticks": ""
            },
            "colorscale": [
             [
              0,
              "#0d0887"
             ],
             [
              0.1111111111111111,
              "#46039f"
             ],
             [
              0.2222222222222222,
              "#7201a8"
             ],
             [
              0.3333333333333333,
              "#9c179e"
             ],
             [
              0.4444444444444444,
              "#bd3786"
             ],
             [
              0.5555555555555556,
              "#d8576b"
             ],
             [
              0.6666666666666666,
              "#ed7953"
             ],
             [
              0.7777777777777778,
              "#fb9f3a"
             ],
             [
              0.8888888888888888,
              "#fdca26"
             ],
             [
              1,
              "#f0f921"
             ]
            ],
            "type": "histogram2d"
           }
          ],
          "histogram2dcontour": [
           {
            "colorbar": {
             "outlinewidth": 0,
             "ticks": ""
            },
            "colorscale": [
             [
              0,
              "#0d0887"
             ],
             [
              0.1111111111111111,
              "#46039f"
             ],
             [
              0.2222222222222222,
              "#7201a8"
             ],
             [
              0.3333333333333333,
              "#9c179e"
             ],
             [
              0.4444444444444444,
              "#bd3786"
             ],
             [
              0.5555555555555556,
              "#d8576b"
             ],
             [
              0.6666666666666666,
              "#ed7953"
             ],
             [
              0.7777777777777778,
              "#fb9f3a"
             ],
             [
              0.8888888888888888,
              "#fdca26"
             ],
             [
              1,
              "#f0f921"
             ]
            ],
            "type": "histogram2dcontour"
           }
          ],
          "mesh3d": [
           {
            "colorbar": {
             "outlinewidth": 0,
             "ticks": ""
            },
            "type": "mesh3d"
           }
          ],
          "parcoords": [
           {
            "line": {
             "colorbar": {
              "outlinewidth": 0,
              "ticks": ""
             }
            },
            "type": "parcoords"
           }
          ],
          "pie": [
           {
            "automargin": true,
            "type": "pie"
           }
          ],
          "scatter": [
           {
            "fillpattern": {
             "fillmode": "overlay",
             "size": 10,
             "solidity": 0.2
            },
            "type": "scatter"
           }
          ],
          "scatter3d": [
           {
            "line": {
             "colorbar": {
              "outlinewidth": 0,
              "ticks": ""
             }
            },
            "marker": {
             "colorbar": {
              "outlinewidth": 0,
              "ticks": ""
             }
            },
            "type": "scatter3d"
           }
          ],
          "scattercarpet": [
           {
            "marker": {
             "colorbar": {
              "outlinewidth": 0,
              "ticks": ""
             }
            },
            "type": "scattercarpet"
           }
          ],
          "scattergeo": [
           {
            "marker": {
             "colorbar": {
              "outlinewidth": 0,
              "ticks": ""
             }
            },
            "type": "scattergeo"
           }
          ],
          "scattergl": [
           {
            "marker": {
             "colorbar": {
              "outlinewidth": 0,
              "ticks": ""
             }
            },
            "type": "scattergl"
           }
          ],
          "scattermapbox": [
           {
            "marker": {
             "colorbar": {
              "outlinewidth": 0,
              "ticks": ""
             }
            },
            "type": "scattermapbox"
           }
          ],
          "scatterpolar": [
           {
            "marker": {
             "colorbar": {
              "outlinewidth": 0,
              "ticks": ""
             }
            },
            "type": "scatterpolar"
           }
          ],
          "scatterpolargl": [
           {
            "marker": {
             "colorbar": {
              "outlinewidth": 0,
              "ticks": ""
             }
            },
            "type": "scatterpolargl"
           }
          ],
          "scatterternary": [
           {
            "marker": {
             "colorbar": {
              "outlinewidth": 0,
              "ticks": ""
             }
            },
            "type": "scatterternary"
           }
          ],
          "surface": [
           {
            "colorbar": {
             "outlinewidth": 0,
             "ticks": ""
            },
            "colorscale": [
             [
              0,
              "#0d0887"
             ],
             [
              0.1111111111111111,
              "#46039f"
             ],
             [
              0.2222222222222222,
              "#7201a8"
             ],
             [
              0.3333333333333333,
              "#9c179e"
             ],
             [
              0.4444444444444444,
              "#bd3786"
             ],
             [
              0.5555555555555556,
              "#d8576b"
             ],
             [
              0.6666666666666666,
              "#ed7953"
             ],
             [
              0.7777777777777778,
              "#fb9f3a"
             ],
             [
              0.8888888888888888,
              "#fdca26"
             ],
             [
              1,
              "#f0f921"
             ]
            ],
            "type": "surface"
           }
          ],
          "table": [
           {
            "cells": {
             "fill": {
              "color": "#EBF0F8"
             },
             "line": {
              "color": "white"
             }
            },
            "header": {
             "fill": {
              "color": "#C8D4E3"
             },
             "line": {
              "color": "white"
             }
            },
            "type": "table"
           }
          ]
         },
         "layout": {
          "annotationdefaults": {
           "arrowcolor": "#2a3f5f",
           "arrowhead": 0,
           "arrowwidth": 1
          },
          "autotypenumbers": "strict",
          "coloraxis": {
           "colorbar": {
            "outlinewidth": 0,
            "ticks": ""
           }
          },
          "colorscale": {
           "diverging": [
            [
             0,
             "#8e0152"
            ],
            [
             0.1,
             "#c51b7d"
            ],
            [
             0.2,
             "#de77ae"
            ],
            [
             0.3,
             "#f1b6da"
            ],
            [
             0.4,
             "#fde0ef"
            ],
            [
             0.5,
             "#f7f7f7"
            ],
            [
             0.6,
             "#e6f5d0"
            ],
            [
             0.7,
             "#b8e186"
            ],
            [
             0.8,
             "#7fbc41"
            ],
            [
             0.9,
             "#4d9221"
            ],
            [
             1,
             "#276419"
            ]
           ],
           "sequential": [
            [
             0,
             "#0d0887"
            ],
            [
             0.1111111111111111,
             "#46039f"
            ],
            [
             0.2222222222222222,
             "#7201a8"
            ],
            [
             0.3333333333333333,
             "#9c179e"
            ],
            [
             0.4444444444444444,
             "#bd3786"
            ],
            [
             0.5555555555555556,
             "#d8576b"
            ],
            [
             0.6666666666666666,
             "#ed7953"
            ],
            [
             0.7777777777777778,
             "#fb9f3a"
            ],
            [
             0.8888888888888888,
             "#fdca26"
            ],
            [
             1,
             "#f0f921"
            ]
           ],
           "sequentialminus": [
            [
             0,
             "#0d0887"
            ],
            [
             0.1111111111111111,
             "#46039f"
            ],
            [
             0.2222222222222222,
             "#7201a8"
            ],
            [
             0.3333333333333333,
             "#9c179e"
            ],
            [
             0.4444444444444444,
             "#bd3786"
            ],
            [
             0.5555555555555556,
             "#d8576b"
            ],
            [
             0.6666666666666666,
             "#ed7953"
            ],
            [
             0.7777777777777778,
             "#fb9f3a"
            ],
            [
             0.8888888888888888,
             "#fdca26"
            ],
            [
             1,
             "#f0f921"
            ]
           ]
          },
          "colorway": [
           "#636efa",
           "#EF553B",
           "#00cc96",
           "#ab63fa",
           "#FFA15A",
           "#19d3f3",
           "#FF6692",
           "#B6E880",
           "#FF97FF",
           "#FECB52"
          ],
          "font": {
           "color": "#2a3f5f"
          },
          "geo": {
           "bgcolor": "white",
           "lakecolor": "white",
           "landcolor": "#E5ECF6",
           "showlakes": true,
           "showland": true,
           "subunitcolor": "white"
          },
          "hoverlabel": {
           "align": "left"
          },
          "hovermode": "closest",
          "mapbox": {
           "style": "light"
          },
          "paper_bgcolor": "white",
          "plot_bgcolor": "#E5ECF6",
          "polar": {
           "angularaxis": {
            "gridcolor": "white",
            "linecolor": "white",
            "ticks": ""
           },
           "bgcolor": "#E5ECF6",
           "radialaxis": {
            "gridcolor": "white",
            "linecolor": "white",
            "ticks": ""
           }
          },
          "scene": {
           "xaxis": {
            "backgroundcolor": "#E5ECF6",
            "gridcolor": "white",
            "gridwidth": 2,
            "linecolor": "white",
            "showbackground": true,
            "ticks": "",
            "zerolinecolor": "white"
           },
           "yaxis": {
            "backgroundcolor": "#E5ECF6",
            "gridcolor": "white",
            "gridwidth": 2,
            "linecolor": "white",
            "showbackground": true,
            "ticks": "",
            "zerolinecolor": "white"
           },
           "zaxis": {
            "backgroundcolor": "#E5ECF6",
            "gridcolor": "white",
            "gridwidth": 2,
            "linecolor": "white",
            "showbackground": true,
            "ticks": "",
            "zerolinecolor": "white"
           }
          },
          "shapedefaults": {
           "line": {
            "color": "#2a3f5f"
           }
          },
          "ternary": {
           "aaxis": {
            "gridcolor": "white",
            "linecolor": "white",
            "ticks": ""
           },
           "baxis": {
            "gridcolor": "white",
            "linecolor": "white",
            "ticks": ""
           },
           "bgcolor": "#E5ECF6",
           "caxis": {
            "gridcolor": "white",
            "linecolor": "white",
            "ticks": ""
           }
          },
          "title": {
           "x": 0.05
          },
          "xaxis": {
           "automargin": true,
           "gridcolor": "white",
           "linecolor": "white",
           "ticks": "",
           "title": {
            "standoff": 15
           },
           "zerolinecolor": "white",
           "zerolinewidth": 2
          },
          "yaxis": {
           "automargin": true,
           "gridcolor": "white",
           "linecolor": "white",
           "ticks": "",
           "title": {
            "standoff": 15
           },
           "zerolinecolor": "white",
           "zerolinewidth": 2
          }
         }
        }
       }
      }
     },
     "metadata": {},
     "output_type": "display_data"
    }
   ],
   "source": [
    "\n",
    "import plotly.graph_objects as go\n",
    "from datetime import datetime\n",
    "\n",
    "fig = go.Figure(data=[go.Candlestick(x=data.index,\n",
    "                open=data['Open'],\n",
    "                high=data['High'],\n",
    "                low=data['Low'],\n",
    "                close=data['Close'])])\n",
    "\n",
    "fig.show()"
   ]
  },
  {
   "cell_type": "code",
   "execution_count": null,
   "metadata": {},
   "outputs": [],
   "source": [
    "ss = []\n",
    "rr = []\n",
    "n1=2\n",
    "n2=2\n",
    "for row in range(3, 205): #len(df)-n2\n",
    "    if support(data, row, n1, n2):\n",
    "        ss.append((row,data.Low[row]))\n",
    "    if resistance(data, row, n1, n2):\n",
    "        rr.append((row,data.High[row]))"
   ]
  },
  {
   "cell_type": "code",
   "execution_count": null,
   "metadata": {},
   "outputs": [
    {
     "data": {
      "application/vnd.plotly.v1+json": {
       "config": {
        "plotlyServerURL": "https://plot.ly"
       },
       "data": [
        {
         "close": [
          1.18023,
          1.18002,
          1.18075,
          1.18113,
          1.18038,
          1.18003,
          1.18056,
          1.18078,
          1.18104,
          1.18082,
          1.18101,
          1.18089,
          1.18112,
          1.1813,
          1.18132,
          1.18102,
          1.18065,
          1.18094,
          1.18125,
          1.18184,
          1.1826,
          1.18282,
          1.18325,
          1.18299,
          1.18377,
          1.18402,
          1.18332,
          1.1845,
          1.18431,
          1.18492,
          1.18538,
          1.18435,
          1.18442,
          1.18353,
          1.18396,
          1.18316,
          1.18383,
          1.18392,
          1.18396,
          1.18391,
          1.18345,
          1.18271,
          1.18296,
          1.18227,
          1.18224,
          1.18294,
          1.1829,
          1.18338,
          1.18361,
          1.18247,
          1.18262,
          1.18277,
          1.18269,
          1.18264,
          1.18218,
          1.18244,
          1.18157,
          1.18053,
          1.18103,
          1.18078,
          1.18169,
          1.18157,
          1.18217,
          1.18247,
          1.18223,
          1.18209,
          1.18166,
          1.18252,
          1.18297,
          1.18206,
          1.18175,
          1.18131,
          1.18127,
          1.18179,
          1.18115,
          1.18082,
          1.18059,
          1.18067,
          1.18018,
          1.1804,
          1.18042,
          1.17927,
          1.1795,
          1.18011,
          1.18022,
          1.18061,
          1.18018,
          1.18032,
          1.18091,
          1.18056,
          1.18017,
          1.18009,
          1.17971,
          1.17995,
          1.18048,
          1.18069,
          1.18106,
          1.18143,
          1.18136,
          1.18112,
          1.18172,
          1.18208,
          1.18181,
          1.18189,
          1.18233,
          1.18272,
          1.1832,
          1.18304,
          1.18371,
          1.18333,
          1.1828,
          1.18384,
          1.18407,
          1.18301,
          1.18247,
          1.18264,
          1.18287,
          1.18274,
          1.18221,
          1.18147,
          1.18181,
          1.18212,
          1.18296,
          1.18261,
          1.18278,
          1.18275,
          1.18294,
          1.18266,
          1.18264,
          1.18265,
          1.18295,
          1.18303,
          1.183,
          1.18319,
          1.18297,
          1.18268,
          1.18267,
          1.18278,
          1.18325,
          1.18317,
          1.18333,
          1.18326,
          1.18307,
          1.18242,
          1.18275,
          1.18272,
          1.18245,
          1.18221,
          1.18224,
          1.18234,
          1.18228,
          1.18222,
          1.18238,
          1.18234,
          1.18222,
          1.18178,
          1.18181,
          1.18412,
          1.18145,
          1.18167,
          1.18239,
          1.18279,
          1.18291,
          1.1827,
          1.18283,
          1.18201,
          1.18161,
          1.18175,
          1.1812,
          1.18123,
          1.18111,
          1.18046,
          1.18003,
          1.17973,
          1.17999,
          1.17995,
          1.18026,
          1.1806,
          1.17999,
          1.18012,
          1.1804,
          1.18023,
          1.1808,
          1.18118,
          1.18078,
          1.18111,
          1.18128,
          1.18253,
          1.18184,
          1.18197,
          1.18227,
          1.18216,
          1.18213,
          1.18212,
          1.18217,
          1.18241,
          1.1821,
          1.18229,
          1.18204,
          1.18281
         ],
         "high": [
          1.18058,
          1.18039,
          1.18077,
          1.18114,
          1.18121,
          1.18084,
          1.18066,
          1.18088,
          1.18112,
          1.18106,
          1.18121,
          1.18134,
          1.18145,
          1.1813,
          1.18143,
          1.18137,
          1.18125,
          1.1813,
          1.1813,
          1.18192,
          1.18281,
          1.18285,
          1.18356,
          1.18331,
          1.18379,
          1.18406,
          1.18467,
          1.18466,
          1.18465,
          1.18498,
          1.18596,
          1.18554,
          1.18454,
          1.18449,
          1.18422,
          1.18416,
          1.18385,
          1.18468,
          1.18453,
          1.18416,
          1.18398,
          1.18348,
          1.18305,
          1.18302,
          1.18241,
          1.18297,
          1.18339,
          1.18338,
          1.18369,
          1.18384,
          1.18294,
          1.18307,
          1.1833,
          1.18302,
          1.18266,
          1.18261,
          1.18251,
          1.18161,
          1.18114,
          1.18101,
          1.1817,
          1.18179,
          1.18233,
          1.18277,
          1.18274,
          1.18242,
          1.18211,
          1.1826,
          1.18318,
          1.18306,
          1.18215,
          1.18182,
          1.18151,
          1.18181,
          1.18183,
          1.1812,
          1.18096,
          1.18094,
          1.18069,
          1.18048,
          1.18047,
          1.18059,
          1.17953,
          1.18031,
          1.1803,
          1.18063,
          1.1807,
          1.18042,
          1.18104,
          1.18117,
          1.18062,
          1.18021,
          1.18013,
          1.17997,
          1.18049,
          1.1807,
          1.1812,
          1.18144,
          1.18159,
          1.18144,
          1.18172,
          1.18211,
          1.18231,
          1.18193,
          1.1828,
          1.18298,
          1.18324,
          1.18336,
          1.18376,
          1.18383,
          1.18348,
          1.18394,
          1.18441,
          1.18408,
          1.18316,
          1.18269,
          1.18305,
          1.18302,
          1.18281,
          1.18228,
          1.18185,
          1.18216,
          1.18309,
          1.18301,
          1.1829,
          1.18297,
          1.18307,
          1.18297,
          1.18282,
          1.18276,
          1.18299,
          1.18306,
          1.18311,
          1.18326,
          1.18345,
          1.18325,
          1.18293,
          1.18282,
          1.18329,
          1.18338,
          1.18356,
          1.18349,
          1.18332,
          1.18309,
          1.18288,
          1.18278,
          1.18273,
          1.18241,
          1.18259,
          1.1825,
          1.18253,
          1.18234,
          1.18248,
          1.18243,
          1.18244,
          1.18223,
          1.18193,
          1.18466,
          1.18434,
          1.18183,
          1.18262,
          1.1828,
          1.18317,
          1.18292,
          1.18293,
          1.18283,
          1.18212,
          1.182,
          1.18182,
          1.18127,
          1.1814,
          1.18131,
          1.1806,
          1.18022,
          1.1801,
          1.18019,
          1.18026,
          1.18062,
          1.1806,
          1.18022,
          1.18058,
          1.18045,
          1.18084,
          1.18141,
          1.18122,
          1.18135,
          1.18136,
          1.18267,
          1.18257,
          1.18209,
          1.1823,
          1.18249,
          1.18231,
          1.18228,
          1.18234,
          1.18264,
          1.18244,
          1.18234,
          1.18242,
          1.1829
         ],
         "low": [
          1.17986,
          1.17981,
          1.17991,
          1.18041,
          1.18038,
          1.18001,
          1.18,
          1.18031,
          1.18044,
          1.18046,
          1.18077,
          1.18075,
          1.18083,
          1.18095,
          1.18087,
          1.18097,
          1.18054,
          1.18066,
          1.18091,
          1.18124,
          1.18174,
          1.18237,
          1.18273,
          1.18282,
          1.18282,
          1.1834,
          1.18332,
          1.1832,
          1.18415,
          1.18412,
          1.18467,
          1.18418,
          1.18423,
          1.18351,
          1.18337,
          1.18313,
          1.1831,
          1.18362,
          1.18381,
          1.18335,
          1.18334,
          1.18255,
          1.18267,
          1.18226,
          1.18184,
          1.18223,
          1.18268,
          1.18276,
          1.1829,
          1.18242,
          1.18247,
          1.18253,
          1.18267,
          1.18237,
          1.18198,
          1.18212,
          1.1812,
          1.1801,
          1.18027,
          1.18039,
          1.18065,
          1.18131,
          1.1815,
          1.18205,
          1.1822,
          1.1817,
          1.18149,
          1.18161,
          1.18249,
          1.18193,
          1.1816,
          1.1812,
          1.1812,
          1.18113,
          1.18111,
          1.18049,
          1.18044,
          1.18038,
          1.18014,
          1.17994,
          1.18014,
          1.17913,
          1.17928,
          1.17943,
          1.17988,
          1.18017,
          1.18017,
          1.18004,
          1.18019,
          1.18041,
          1.18015,
          1.1799,
          1.17951,
          1.17967,
          1.17996,
          1.18043,
          1.18059,
          1.18104,
          1.18121,
          1.18105,
          1.18071,
          1.18164,
          1.18174,
          1.18157,
          1.18185,
          1.18221,
          1.1826,
          1.18243,
          1.18292,
          1.18329,
          1.18245,
          1.18279,
          1.18368,
          1.1829,
          1.18246,
          1.18236,
          1.18264,
          1.18268,
          1.1821,
          1.18129,
          1.18103,
          1.18178,
          1.18209,
          1.18257,
          1.1826,
          1.18275,
          1.18269,
          1.18263,
          1.18257,
          1.18258,
          1.1826,
          1.18288,
          1.18291,
          1.183,
          1.18283,
          1.18252,
          1.1822,
          1.18272,
          1.18247,
          1.18313,
          1.1831,
          1.18299,
          1.18298,
          1.18241,
          1.18241,
          1.18265,
          1.18245,
          1.18221,
          1.18202,
          1.18226,
          1.18222,
          1.18216,
          1.18218,
          1.18228,
          1.18217,
          1.18169,
          1.18156,
          1.18158,
          1.18106,
          1.18082,
          1.18123,
          1.18197,
          1.18267,
          1.18237,
          1.18242,
          1.18189,
          1.18159,
          1.18148,
          1.18103,
          1.18105,
          1.18105,
          1.1804,
          1.17999,
          1.17968,
          1.17952,
          1.1797,
          1.17973,
          1.18015,
          1.17996,
          1.17984,
          1.18005,
          1.18021,
          1.18016,
          1.18081,
          1.18076,
          1.18079,
          1.18104,
          1.18122,
          1.18183,
          1.18176,
          1.18182,
          1.18212,
          1.18208,
          1.18204,
          1.18213,
          1.18217,
          1.18208,
          1.18209,
          1.18199,
          1.18203
         ],
         "open": [
          1.18018,
          1.18023,
          1.18004,
          1.18074,
          1.18114,
          1.18038,
          1.18001,
          1.18056,
          1.18077,
          1.18105,
          1.18082,
          1.18101,
          1.18089,
          1.1811,
          1.18137,
          1.18131,
          1.18101,
          1.18066,
          1.18095,
          1.18124,
          1.18183,
          1.18259,
          1.18281,
          1.18326,
          1.18299,
          1.18378,
          1.18402,
          1.18332,
          1.18451,
          1.1843,
          1.18491,
          1.18541,
          1.18436,
          1.18446,
          1.18353,
          1.18396,
          1.18318,
          1.18382,
          1.18394,
          1.18398,
          1.18391,
          1.18344,
          1.18269,
          1.18295,
          1.18228,
          1.18225,
          1.18295,
          1.18289,
          1.18336,
          1.18361,
          1.18247,
          1.18264,
          1.1828,
          1.1827,
          1.18265,
          1.18217,
          1.18245,
          1.18158,
          1.18053,
          1.18101,
          1.18079,
          1.1817,
          1.18157,
          1.18215,
          1.18248,
          1.18222,
          1.18208,
          1.18166,
          1.18252,
          1.18298,
          1.18208,
          1.18175,
          1.18131,
          1.18128,
          1.1818,
          1.18116,
          1.18081,
          1.18058,
          1.18061,
          1.18019,
          1.18041,
          1.18041,
          1.1793,
          1.17949,
          1.18009,
          1.18021,
          1.18062,
          1.18017,
          1.18033,
          1.18092,
          1.18057,
          1.18017,
          1.18009,
          1.17971,
          1.17996,
          1.18047,
          1.18068,
          1.18106,
          1.18144,
          1.18136,
          1.18109,
          1.18174,
          1.18207,
          1.18182,
          1.18189,
          1.18232,
          1.18271,
          1.18322,
          1.18303,
          1.18371,
          1.18334,
          1.1828,
          1.18386,
          1.18408,
          1.18302,
          1.1825,
          1.18265,
          1.18286,
          1.18275,
          1.18222,
          1.1815,
          1.18182,
          1.18211,
          1.18295,
          1.1826,
          1.18279,
          1.18274,
          1.18295,
          1.18268,
          1.18263,
          1.18263,
          1.18295,
          1.18303,
          1.18302,
          1.1832,
          1.18296,
          1.18268,
          1.18275,
          1.18278,
          1.18318,
          1.1831,
          1.18345,
          1.18326,
          1.18308,
          1.18241,
          1.18266,
          1.18273,
          1.18233,
          1.18222,
          1.18226,
          1.18232,
          1.18227,
          1.18223,
          1.18238,
          1.18235,
          1.18223,
          1.18179,
          1.18181,
          1.1841,
          1.18148,
          1.18169,
          1.18239,
          1.1828,
          1.18292,
          1.18272,
          1.18283,
          1.182,
          1.1816,
          1.18176,
          1.1812,
          1.18123,
          1.18112,
          1.18047,
          1.18001,
          1.17974,
          1.17999,
          1.17992,
          1.18027,
          1.1806,
          1.17999,
          1.18011,
          1.1804,
          1.18023,
          1.18081,
          1.18119,
          1.18079,
          1.18109,
          1.18129,
          1.18252,
          1.18183,
          1.18197,
          1.18228,
          1.18218,
          1.18212,
          1.18213,
          1.18219,
          1.18241,
          1.18209,
          1.18229,
          1.18205
         ],
         "type": "candlestick",
         "x": [
          0,
          1,
          2,
          3,
          4,
          5,
          6,
          7,
          8,
          9,
          10,
          11,
          12,
          13,
          14,
          15,
          16,
          17,
          18,
          19,
          20,
          21,
          22,
          23,
          24,
          25,
          26,
          27,
          28,
          29,
          30,
          31,
          32,
          33,
          34,
          35,
          36,
          37,
          38,
          39,
          40,
          41,
          42,
          43,
          44,
          45,
          46,
          47,
          48,
          49,
          50,
          51,
          52,
          53,
          54,
          55,
          56,
          57,
          58,
          59,
          60,
          61,
          62,
          63,
          64,
          65,
          66,
          67,
          68,
          69,
          70,
          71,
          72,
          73,
          74,
          75,
          76,
          77,
          78,
          79,
          80,
          81,
          82,
          83,
          84,
          85,
          86,
          87,
          88,
          89,
          90,
          91,
          92,
          93,
          94,
          95,
          96,
          97,
          98,
          99,
          100,
          101,
          102,
          103,
          104,
          105,
          106,
          107,
          108,
          109,
          110,
          111,
          112,
          113,
          114,
          115,
          116,
          117,
          118,
          119,
          120,
          121,
          122,
          123,
          124,
          125,
          126,
          127,
          128,
          129,
          130,
          131,
          132,
          133,
          134,
          135,
          136,
          137,
          138,
          139,
          140,
          141,
          142,
          143,
          144,
          145,
          146,
          147,
          148,
          149,
          150,
          151,
          152,
          153,
          154,
          155,
          156,
          157,
          158,
          159,
          160,
          161,
          162,
          163,
          164,
          165,
          166,
          167,
          168,
          169,
          170,
          171,
          172,
          173,
          174,
          175,
          176,
          177,
          178,
          179,
          180,
          181,
          182,
          183,
          184,
          185,
          186,
          187,
          188,
          189,
          190,
          191,
          192,
          193,
          194,
          195,
          196,
          197,
          198,
          199
         ]
        }
       ],
       "layout": {
        "shapes": [
         {
          "line": {
           "color": "MediumPurple",
           "width": 3
          },
          "type": "line",
          "x0": 6,
          "x1": 200,
          "y0": 1.18,
          "y1": 1.18
         },
         {
          "line": {
           "color": "MediumPurple",
           "width": 3
          },
          "type": "line",
          "x0": 36,
          "x1": 200,
          "y0": 1.1831,
          "y1": 1.1831
         },
         {
          "line": {
           "color": "MediumPurple",
           "width": 3
          },
          "type": "line",
          "x0": 44,
          "x1": 200,
          "y0": 1.18184,
          "y1": 1.18184
         },
         {
          "line": {
           "color": "MediumPurple",
           "width": 3
          },
          "type": "line",
          "x0": 57,
          "x1": 200,
          "y0": 1.1801,
          "y1": 1.1801
         },
         {
          "line": {
           "color": "MediumPurple",
           "width": 3
          },
          "type": "line",
          "x0": 66,
          "x1": 200,
          "y0": 1.18149,
          "y1": 1.18149
         },
         {
          "line": {
           "color": "MediumPurple",
           "width": 3
          },
          "type": "line",
          "x0": 87,
          "x1": 200,
          "y0": 1.18004,
          "y1": 1.18004
         },
         {
          "line": {
           "color": "MediumPurple",
           "width": 3
          },
          "type": "line",
          "x0": 92,
          "x1": 200,
          "y0": 1.17951,
          "y1": 1.17951
         },
         {
          "line": {
           "color": "MediumPurple",
           "width": 3
          },
          "type": "line",
          "x0": 100,
          "x1": 200,
          "y0": 1.18071,
          "y1": 1.18071
         },
         {
          "line": {
           "color": "MediumPurple",
           "width": 3
          },
          "type": "line",
          "x0": 115,
          "x1": 200,
          "y0": 1.18236,
          "y1": 1.18236
         },
         {
          "line": {
           "color": "MediumPurple",
           "width": 3
          },
          "type": "line",
          "x0": 120,
          "x1": 200,
          "y0": 1.18103,
          "y1": 1.18103
         },
         {
          "line": {
           "color": "MediumPurple",
           "width": 3
          },
          "type": "line",
          "x0": 128,
          "x1": 200,
          "y0": 1.18257,
          "y1": 1.18257
         },
         {
          "line": {
           "color": "MediumPurple",
           "width": 3
          },
          "type": "line",
          "x0": 143,
          "x1": 200,
          "y0": 1.18241,
          "y1": 1.18241
         },
         {
          "line": {
           "color": "MediumPurple",
           "width": 3
          },
          "type": "line",
          "x0": 151,
          "x1": 200,
          "y0": 1.18216,
          "y1": 1.18216
         },
         {
          "line": {
           "color": "MediumPurple",
           "width": 3
          },
          "type": "line",
          "x0": 159,
          "x1": 200,
          "y0": 1.18082,
          "y1": 1.18082
         },
         {
          "line": {
           "color": "MediumPurple",
           "width": 3
          },
          "type": "line",
          "x0": 168,
          "x1": 200,
          "y0": 1.18103,
          "y1": 1.18103
         },
         {
          "line": {
           "color": "MediumPurple",
           "width": 3
          },
          "type": "line",
          "x0": 174,
          "x1": 200,
          "y0": 1.17952,
          "y1": 1.17952
         },
         {
          "line": {
           "color": "MediumPurple",
           "width": 3
          },
          "type": "line",
          "x0": 179,
          "x1": 200,
          "y0": 1.17984,
          "y1": 1.17984
         },
         {
          "line": {
           "color": "MediumPurple",
           "width": 3
          },
          "type": "line",
          "x0": 193,
          "x1": 200,
          "y0": 1.18204,
          "y1": 1.18204
         },
         {
          "line": {
           "color": "RoyalBlue",
           "width": 1
          },
          "type": "line",
          "x0": 4,
          "x1": 200,
          "y0": 1.18121,
          "y1": 1.18121
         },
         {
          "line": {
           "color": "RoyalBlue",
           "width": 1
          },
          "type": "line",
          "x0": 26,
          "x1": 200,
          "y0": 1.18467,
          "y1": 1.18467
         },
         {
          "line": {
           "color": "RoyalBlue",
           "width": 1
          },
          "type": "line",
          "x0": 30,
          "x1": 200,
          "y0": 1.18596,
          "y1": 1.18596
         },
         {
          "line": {
           "color": "RoyalBlue",
           "width": 1
          },
          "type": "line",
          "x0": 52,
          "x1": 200,
          "y0": 1.1833,
          "y1": 1.1833
         },
         {
          "line": {
           "color": "RoyalBlue",
           "width": 1
          },
          "type": "line",
          "x0": 63,
          "x1": 200,
          "y0": 1.18277,
          "y1": 1.18277
         },
         {
          "line": {
           "color": "RoyalBlue",
           "width": 1
          },
          "type": "line",
          "x0": 68,
          "x1": 200,
          "y0": 1.18318,
          "y1": 1.18318
         },
         {
          "line": {
           "color": "RoyalBlue",
           "width": 1
          },
          "type": "line",
          "x0": 74,
          "x1": 200,
          "y0": 1.18183,
          "y1": 1.18183
         },
         {
          "line": {
           "color": "RoyalBlue",
           "width": 1
          },
          "type": "line",
          "x0": 89,
          "x1": 200,
          "y0": 1.18117,
          "y1": 1.18117
         },
         {
          "line": {
           "color": "RoyalBlue",
           "width": 1
          },
          "type": "line",
          "x0": 112,
          "x1": 200,
          "y0": 1.18441,
          "y1": 1.18441
         },
         {
          "line": {
           "color": "RoyalBlue",
           "width": 1
          },
          "type": "line",
          "x0": 122,
          "x1": 200,
          "y0": 1.18309,
          "y1": 1.18309
         },
         {
          "line": {
           "color": "RoyalBlue",
           "width": 1
          },
          "type": "line",
          "x0": 126,
          "x1": 200,
          "y0": 1.18307,
          "y1": 1.18307
         },
         {
          "line": {
           "color": "RoyalBlue",
           "width": 1
          },
          "type": "line",
          "x0": 134,
          "x1": 200,
          "y0": 1.18345,
          "y1": 1.18345
         },
         {
          "line": {
           "color": "RoyalBlue",
           "width": 1
          },
          "type": "line",
          "x0": 140,
          "x1": 200,
          "y0": 1.18356,
          "y1": 1.18356
         },
         {
          "line": {
           "color": "RoyalBlue",
           "width": 1
          },
          "type": "line",
          "x0": 177,
          "x1": 200,
          "y0": 1.18062,
          "y1": 1.18062
         },
         {
          "line": {
           "color": "RoyalBlue",
           "width": 1
          },
          "type": "line",
          "x0": 187,
          "x1": 200,
          "y0": 1.18267,
          "y1": 1.18267
         },
         {
          "line": {
           "color": "RoyalBlue",
           "width": 1
          },
          "type": "line",
          "x0": 191,
          "x1": 200,
          "y0": 1.18249,
          "y1": 1.18249
         },
         {
          "line": {
           "color": "RoyalBlue",
           "width": 1
          },
          "type": "line",
          "x0": 195,
          "x1": 200,
          "y0": 1.18264,
          "y1": 1.18264
         },
         {
          "line": {
           "color": "RoyalBlue",
           "width": 1
          },
          "type": "line",
          "x0": 200,
          "x1": 200,
          "y0": 1.18335,
          "y1": 1.18335
         }
        ],
        "template": {
         "data": {
          "bar": [
           {
            "error_x": {
             "color": "#2a3f5f"
            },
            "error_y": {
             "color": "#2a3f5f"
            },
            "marker": {
             "line": {
              "color": "#E5ECF6",
              "width": 0.5
             },
             "pattern": {
              "fillmode": "overlay",
              "size": 10,
              "solidity": 0.2
             }
            },
            "type": "bar"
           }
          ],
          "barpolar": [
           {
            "marker": {
             "line": {
              "color": "#E5ECF6",
              "width": 0.5
             },
             "pattern": {
              "fillmode": "overlay",
              "size": 10,
              "solidity": 0.2
             }
            },
            "type": "barpolar"
           }
          ],
          "carpet": [
           {
            "aaxis": {
             "endlinecolor": "#2a3f5f",
             "gridcolor": "white",
             "linecolor": "white",
             "minorgridcolor": "white",
             "startlinecolor": "#2a3f5f"
            },
            "baxis": {
             "endlinecolor": "#2a3f5f",
             "gridcolor": "white",
             "linecolor": "white",
             "minorgridcolor": "white",
             "startlinecolor": "#2a3f5f"
            },
            "type": "carpet"
           }
          ],
          "choropleth": [
           {
            "colorbar": {
             "outlinewidth": 0,
             "ticks": ""
            },
            "type": "choropleth"
           }
          ],
          "contour": [
           {
            "colorbar": {
             "outlinewidth": 0,
             "ticks": ""
            },
            "colorscale": [
             [
              0,
              "#0d0887"
             ],
             [
              0.1111111111111111,
              "#46039f"
             ],
             [
              0.2222222222222222,
              "#7201a8"
             ],
             [
              0.3333333333333333,
              "#9c179e"
             ],
             [
              0.4444444444444444,
              "#bd3786"
             ],
             [
              0.5555555555555556,
              "#d8576b"
             ],
             [
              0.6666666666666666,
              "#ed7953"
             ],
             [
              0.7777777777777778,
              "#fb9f3a"
             ],
             [
              0.8888888888888888,
              "#fdca26"
             ],
             [
              1,
              "#f0f921"
             ]
            ],
            "type": "contour"
           }
          ],
          "contourcarpet": [
           {
            "colorbar": {
             "outlinewidth": 0,
             "ticks": ""
            },
            "type": "contourcarpet"
           }
          ],
          "heatmap": [
           {
            "colorbar": {
             "outlinewidth": 0,
             "ticks": ""
            },
            "colorscale": [
             [
              0,
              "#0d0887"
             ],
             [
              0.1111111111111111,
              "#46039f"
             ],
             [
              0.2222222222222222,
              "#7201a8"
             ],
             [
              0.3333333333333333,
              "#9c179e"
             ],
             [
              0.4444444444444444,
              "#bd3786"
             ],
             [
              0.5555555555555556,
              "#d8576b"
             ],
             [
              0.6666666666666666,
              "#ed7953"
             ],
             [
              0.7777777777777778,
              "#fb9f3a"
             ],
             [
              0.8888888888888888,
              "#fdca26"
             ],
             [
              1,
              "#f0f921"
             ]
            ],
            "type": "heatmap"
           }
          ],
          "heatmapgl": [
           {
            "colorbar": {
             "outlinewidth": 0,
             "ticks": ""
            },
            "colorscale": [
             [
              0,
              "#0d0887"
             ],
             [
              0.1111111111111111,
              "#46039f"
             ],
             [
              0.2222222222222222,
              "#7201a8"
             ],
             [
              0.3333333333333333,
              "#9c179e"
             ],
             [
              0.4444444444444444,
              "#bd3786"
             ],
             [
              0.5555555555555556,
              "#d8576b"
             ],
             [
              0.6666666666666666,
              "#ed7953"
             ],
             [
              0.7777777777777778,
              "#fb9f3a"
             ],
             [
              0.8888888888888888,
              "#fdca26"
             ],
             [
              1,
              "#f0f921"
             ]
            ],
            "type": "heatmapgl"
           }
          ],
          "histogram": [
           {
            "marker": {
             "pattern": {
              "fillmode": "overlay",
              "size": 10,
              "solidity": 0.2
             }
            },
            "type": "histogram"
           }
          ],
          "histogram2d": [
           {
            "colorbar": {
             "outlinewidth": 0,
             "ticks": ""
            },
            "colorscale": [
             [
              0,
              "#0d0887"
             ],
             [
              0.1111111111111111,
              "#46039f"
             ],
             [
              0.2222222222222222,
              "#7201a8"
             ],
             [
              0.3333333333333333,
              "#9c179e"
             ],
             [
              0.4444444444444444,
              "#bd3786"
             ],
             [
              0.5555555555555556,
              "#d8576b"
             ],
             [
              0.6666666666666666,
              "#ed7953"
             ],
             [
              0.7777777777777778,
              "#fb9f3a"
             ],
             [
              0.8888888888888888,
              "#fdca26"
             ],
             [
              1,
              "#f0f921"
             ]
            ],
            "type": "histogram2d"
           }
          ],
          "histogram2dcontour": [
           {
            "colorbar": {
             "outlinewidth": 0,
             "ticks": ""
            },
            "colorscale": [
             [
              0,
              "#0d0887"
             ],
             [
              0.1111111111111111,
              "#46039f"
             ],
             [
              0.2222222222222222,
              "#7201a8"
             ],
             [
              0.3333333333333333,
              "#9c179e"
             ],
             [
              0.4444444444444444,
              "#bd3786"
             ],
             [
              0.5555555555555556,
              "#d8576b"
             ],
             [
              0.6666666666666666,
              "#ed7953"
             ],
             [
              0.7777777777777778,
              "#fb9f3a"
             ],
             [
              0.8888888888888888,
              "#fdca26"
             ],
             [
              1,
              "#f0f921"
             ]
            ],
            "type": "histogram2dcontour"
           }
          ],
          "mesh3d": [
           {
            "colorbar": {
             "outlinewidth": 0,
             "ticks": ""
            },
            "type": "mesh3d"
           }
          ],
          "parcoords": [
           {
            "line": {
             "colorbar": {
              "outlinewidth": 0,
              "ticks": ""
             }
            },
            "type": "parcoords"
           }
          ],
          "pie": [
           {
            "automargin": true,
            "type": "pie"
           }
          ],
          "scatter": [
           {
            "fillpattern": {
             "fillmode": "overlay",
             "size": 10,
             "solidity": 0.2
            },
            "type": "scatter"
           }
          ],
          "scatter3d": [
           {
            "line": {
             "colorbar": {
              "outlinewidth": 0,
              "ticks": ""
             }
            },
            "marker": {
             "colorbar": {
              "outlinewidth": 0,
              "ticks": ""
             }
            },
            "type": "scatter3d"
           }
          ],
          "scattercarpet": [
           {
            "marker": {
             "colorbar": {
              "outlinewidth": 0,
              "ticks": ""
             }
            },
            "type": "scattercarpet"
           }
          ],
          "scattergeo": [
           {
            "marker": {
             "colorbar": {
              "outlinewidth": 0,
              "ticks": ""
             }
            },
            "type": "scattergeo"
           }
          ],
          "scattergl": [
           {
            "marker": {
             "colorbar": {
              "outlinewidth": 0,
              "ticks": ""
             }
            },
            "type": "scattergl"
           }
          ],
          "scattermapbox": [
           {
            "marker": {
             "colorbar": {
              "outlinewidth": 0,
              "ticks": ""
             }
            },
            "type": "scattermapbox"
           }
          ],
          "scatterpolar": [
           {
            "marker": {
             "colorbar": {
              "outlinewidth": 0,
              "ticks": ""
             }
            },
            "type": "scatterpolar"
           }
          ],
          "scatterpolargl": [
           {
            "marker": {
             "colorbar": {
              "outlinewidth": 0,
              "ticks": ""
             }
            },
            "type": "scatterpolargl"
           }
          ],
          "scatterternary": [
           {
            "marker": {
             "colorbar": {
              "outlinewidth": 0,
              "ticks": ""
             }
            },
            "type": "scatterternary"
           }
          ],
          "surface": [
           {
            "colorbar": {
             "outlinewidth": 0,
             "ticks": ""
            },
            "colorscale": [
             [
              0,
              "#0d0887"
             ],
             [
              0.1111111111111111,
              "#46039f"
             ],
             [
              0.2222222222222222,
              "#7201a8"
             ],
             [
              0.3333333333333333,
              "#9c179e"
             ],
             [
              0.4444444444444444,
              "#bd3786"
             ],
             [
              0.5555555555555556,
              "#d8576b"
             ],
             [
              0.6666666666666666,
              "#ed7953"
             ],
             [
              0.7777777777777778,
              "#fb9f3a"
             ],
             [
              0.8888888888888888,
              "#fdca26"
             ],
             [
              1,
              "#f0f921"
             ]
            ],
            "type": "surface"
           }
          ],
          "table": [
           {
            "cells": {
             "fill": {
              "color": "#EBF0F8"
             },
             "line": {
              "color": "white"
             }
            },
            "header": {
             "fill": {
              "color": "#C8D4E3"
             },
             "line": {
              "color": "white"
             }
            },
            "type": "table"
           }
          ]
         },
         "layout": {
          "annotationdefaults": {
           "arrowcolor": "#2a3f5f",
           "arrowhead": 0,
           "arrowwidth": 1
          },
          "autotypenumbers": "strict",
          "coloraxis": {
           "colorbar": {
            "outlinewidth": 0,
            "ticks": ""
           }
          },
          "colorscale": {
           "diverging": [
            [
             0,
             "#8e0152"
            ],
            [
             0.1,
             "#c51b7d"
            ],
            [
             0.2,
             "#de77ae"
            ],
            [
             0.3,
             "#f1b6da"
            ],
            [
             0.4,
             "#fde0ef"
            ],
            [
             0.5,
             "#f7f7f7"
            ],
            [
             0.6,
             "#e6f5d0"
            ],
            [
             0.7,
             "#b8e186"
            ],
            [
             0.8,
             "#7fbc41"
            ],
            [
             0.9,
             "#4d9221"
            ],
            [
             1,
             "#276419"
            ]
           ],
           "sequential": [
            [
             0,
             "#0d0887"
            ],
            [
             0.1111111111111111,
             "#46039f"
            ],
            [
             0.2222222222222222,
             "#7201a8"
            ],
            [
             0.3333333333333333,
             "#9c179e"
            ],
            [
             0.4444444444444444,
             "#bd3786"
            ],
            [
             0.5555555555555556,
             "#d8576b"
            ],
            [
             0.6666666666666666,
             "#ed7953"
            ],
            [
             0.7777777777777778,
             "#fb9f3a"
            ],
            [
             0.8888888888888888,
             "#fdca26"
            ],
            [
             1,
             "#f0f921"
            ]
           ],
           "sequentialminus": [
            [
             0,
             "#0d0887"
            ],
            [
             0.1111111111111111,
             "#46039f"
            ],
            [
             0.2222222222222222,
             "#7201a8"
            ],
            [
             0.3333333333333333,
             "#9c179e"
            ],
            [
             0.4444444444444444,
             "#bd3786"
            ],
            [
             0.5555555555555556,
             "#d8576b"
            ],
            [
             0.6666666666666666,
             "#ed7953"
            ],
            [
             0.7777777777777778,
             "#fb9f3a"
            ],
            [
             0.8888888888888888,
             "#fdca26"
            ],
            [
             1,
             "#f0f921"
            ]
           ]
          },
          "colorway": [
           "#636efa",
           "#EF553B",
           "#00cc96",
           "#ab63fa",
           "#FFA15A",
           "#19d3f3",
           "#FF6692",
           "#B6E880",
           "#FF97FF",
           "#FECB52"
          ],
          "font": {
           "color": "#2a3f5f"
          },
          "geo": {
           "bgcolor": "white",
           "lakecolor": "white",
           "landcolor": "#E5ECF6",
           "showlakes": true,
           "showland": true,
           "subunitcolor": "white"
          },
          "hoverlabel": {
           "align": "left"
          },
          "hovermode": "closest",
          "mapbox": {
           "style": "light"
          },
          "paper_bgcolor": "white",
          "plot_bgcolor": "#E5ECF6",
          "polar": {
           "angularaxis": {
            "gridcolor": "white",
            "linecolor": "white",
            "ticks": ""
           },
           "bgcolor": "#E5ECF6",
           "radialaxis": {
            "gridcolor": "white",
            "linecolor": "white",
            "ticks": ""
           }
          },
          "scene": {
           "xaxis": {
            "backgroundcolor": "#E5ECF6",
            "gridcolor": "white",
            "gridwidth": 2,
            "linecolor": "white",
            "showbackground": true,
            "ticks": "",
            "zerolinecolor": "white"
           },
           "yaxis": {
            "backgroundcolor": "#E5ECF6",
            "gridcolor": "white",
            "gridwidth": 2,
            "linecolor": "white",
            "showbackground": true,
            "ticks": "",
            "zerolinecolor": "white"
           },
           "zaxis": {
            "backgroundcolor": "#E5ECF6",
            "gridcolor": "white",
            "gridwidth": 2,
            "linecolor": "white",
            "showbackground": true,
            "ticks": "",
            "zerolinecolor": "white"
           }
          },
          "shapedefaults": {
           "line": {
            "color": "#2a3f5f"
           }
          },
          "ternary": {
           "aaxis": {
            "gridcolor": "white",
            "linecolor": "white",
            "ticks": ""
           },
           "baxis": {
            "gridcolor": "white",
            "linecolor": "white",
            "ticks": ""
           },
           "bgcolor": "#E5ECF6",
           "caxis": {
            "gridcolor": "white",
            "linecolor": "white",
            "ticks": ""
           }
          },
          "title": {
           "x": 0.05
          },
          "xaxis": {
           "automargin": true,
           "gridcolor": "white",
           "linecolor": "white",
           "ticks": "",
           "title": {
            "standoff": 15
           },
           "zerolinecolor": "white",
           "zerolinewidth": 2
          },
          "yaxis": {
           "automargin": true,
           "gridcolor": "white",
           "linecolor": "white",
           "ticks": "",
           "title": {
            "standoff": 15
           },
           "zerolinecolor": "white",
           "zerolinewidth": 2
          }
         }
        }
       }
      }
     },
     "metadata": {},
     "output_type": "display_data"
    }
   ],
   "source": [
    "s = 0\n",
    "e = 200\n",
    "\n",
    "import plotly.graph_objects as go\n",
    "from datetime import datetime\n",
    "import matplotlib.pyplot as plt\n",
    "\n",
    "fig = go.Figure(data=[go.Candlestick(x=data.index,\n",
    "                open=data['Open'],\n",
    "                high=data['High'],\n",
    "                low=data['Low'],\n",
    "                close=data['Close'])])\n",
    "\n",
    "c=0\n",
    "while (1):\n",
    "    if(c>len(ss)-1 ):\n",
    "        break\n",
    "    fig.add_shape(type='line', x0=ss[c][0], y0=ss[c][1],\n",
    "                  x1=e,\n",
    "                  y1=ss[c][1],\n",
    "                  line=dict(color=\"MediumPurple\",width=3)\n",
    "                  )\n",
    "    c+=1\n",
    "\n",
    "c=0\n",
    "while (1):\n",
    "    if(c>len(rr)-1 ):\n",
    "        break\n",
    "    fig.add_shape(type='line', x0=rr[c][0], y0=rr[c][1],\n",
    "                  x1=e,\n",
    "                  y1=rr[c][1],\n",
    "                  line=dict(color=\"RoyalBlue\",width=1)\n",
    "                  )\n",
    "    c+=1    \n",
    "\n",
    "fig.show()"
   ]
  },
  {
   "cell_type": "code",
   "execution_count": null,
   "metadata": {},
   "outputs": [
    {
     "data": {
      "text/plain": [
       "[(6, 1.18),\n",
       " (36, 1.1831),\n",
       " (44, 1.18184),\n",
       " (57, 1.1801),\n",
       " (66, 1.18149),\n",
       " (87, 1.18004),\n",
       " (92, 1.17951),\n",
       " (100, 1.18071),\n",
       " (115, 1.18236),\n",
       " (120, 1.18103),\n",
       " (128, 1.18257),\n",
       " (143, 1.18241),\n",
       " (151, 1.18216),\n",
       " (159, 1.18082),\n",
       " (168, 1.18103),\n",
       " (174, 1.17952),\n",
       " (179, 1.17984),\n",
       " (193, 1.18204)]"
      ]
     },
     "execution_count": 21,
     "metadata": {},
     "output_type": "execute_result"
    }
   ],
   "source": [
    "ss "
   ]
  },
  {
   "cell_type": "code",
   "execution_count": null,
   "metadata": {},
   "outputs": [
    {
     "data": {
      "text/html": [
       "<div>\n",
       "<style scoped>\n",
       "    .dataframe tbody tr th:only-of-type {\n",
       "        vertical-align: middle;\n",
       "    }\n",
       "\n",
       "    .dataframe tbody tr th {\n",
       "        vertical-align: top;\n",
       "    }\n",
       "\n",
       "    .dataframe thead th {\n",
       "        text-align: right;\n",
       "    }\n",
       "</style>\n",
       "<table border=\"1\" class=\"dataframe\">\n",
       "  <thead>\n",
       "    <tr style=\"text-align: right;\">\n",
       "      <th></th>\n",
       "      <th>Time</th>\n",
       "      <th>Open</th>\n",
       "      <th>High</th>\n",
       "      <th>Low</th>\n",
       "      <th>Close</th>\n",
       "      <th>Volume</th>\n",
       "      <th>Media</th>\n",
       "      <th>Media_ema_150</th>\n",
       "      <th>Close_ema_50</th>\n",
       "      <th>Close_ema_100</th>\n",
       "      <th>Close_ema_20</th>\n",
       "      <th>Media_wma_300</th>\n",
       "      <th>diferencia_150_300</th>\n",
       "      <th>diferencia_20_50</th>\n",
       "      <th>diferencia_100_300</th>\n",
       "      <th>BullsPower_13</th>\n",
       "      <th>BearsPower_13</th>\n",
       "      <th>Low_StdDev_20</th>\n",
       "      <th>High_StdDev_20</th>\n",
       "      <th>Close_StdDev_20</th>\n",
       "      <th>adx_14_adx</th>\n",
       "      <th>adx_14neg</th>\n",
       "      <th>adx_14pos</th>\n",
       "      <th>Close_cci_14</th>\n",
       "      <th>stochastic_5_3stoch</th>\n",
       "      <th>stochastic_5_3signal</th>\n",
       "      <th>ao_5_34</th>\n",
       "      <th>Low_cci_14</th>\n",
       "      <th>High_cci_14</th>\n",
       "      <th>Close_trix_14</th>\n",
       "      <th>Low_rsi_14</th>\n",
       "      <th>Close_rsi_14</th>\n",
       "      <th>High_rsi_14</th>\n",
       "      <th>Low_trix_14</th>\n",
       "      <th>High_trix_14</th>\n",
       "      <th>Open_trix_14</th>\n",
       "      <th>Close_stochrsi_14</th>\n",
       "      <th>Low_stochrsi_14</th>\n",
       "      <th>High_stochrsi_14</th>\n",
       "      <th>Close_roc_14</th>\n",
       "      <th>H/O</th>\n",
       "      <th>L/O</th>\n",
       "      <th>C/O</th>\n",
       "      <th>cluster</th>\n",
       "      <th>picos_minimos_close</th>\n",
       "      <th>picos_maximos_close</th>\n",
       "      <th>picos_minimos_low</th>\n",
       "      <th>picos_maximos_high</th>\n",
       "      <th>Support</th>\n",
       "      <th>Resistance</th>\n",
       "    </tr>\n",
       "  </thead>\n",
       "  <tbody>\n",
       "    <tr>\n",
       "      <th>0</th>\n",
       "      <td>2020-11-05 10:40:00</td>\n",
       "      <td>1.18018</td>\n",
       "      <td>1.18058</td>\n",
       "      <td>1.17986</td>\n",
       "      <td>1.18023</td>\n",
       "      <td>3453</td>\n",
       "      <td>1.180220</td>\n",
       "      <td>1.174654</td>\n",
       "      <td>1.177089</td>\n",
       "      <td>1.175590</td>\n",
       "      <td>1.178944</td>\n",
       "      <td>1.173787</td>\n",
       "      <td>-0.000867</td>\n",
       "      <td>-0.001855</td>\n",
       "      <td>-0.001803</td>\n",
       "      <td>0.001015</td>\n",
       "      <td>0.000295</td>\n",
       "      <td>0.001478</td>\n",
       "      <td>0.001494</td>\n",
       "      <td>0.001426</td>\n",
       "      <td>55.135802</td>\n",
       "      <td>10.182499</td>\n",
       "      <td>29.822835</td>\n",
       "      <td>78.852056</td>\n",
       "      <td>48.461538</td>\n",
       "      <td>60.042735</td>\n",
       "      <td>0.002893</td>\n",
       "      <td>82.386906</td>\n",
       "      <td>77.035016</td>\n",
       "      <td>0.015415</td>\n",
       "      <td>72.584100</td>\n",
       "      <td>69.930801</td>\n",
       "      <td>74.277208</td>\n",
       "      <td>0.015304</td>\n",
       "      <td>0.015527</td>\n",
       "      <td>0.015431</td>\n",
       "      <td>0.037711</td>\n",
       "      <td>0.041960</td>\n",
       "      <td>0.042938</td>\n",
       "      <td>0.193557</td>\n",
       "      <td>0.00040</td>\n",
       "      <td>-0.00032</td>\n",
       "      <td>0.00005</td>\n",
       "      <td>5</td>\n",
       "      <td>NaN</td>\n",
       "      <td>NaN</td>\n",
       "      <td>NaN</td>\n",
       "      <td>NaN</td>\n",
       "      <td>None</td>\n",
       "      <td>None</td>\n",
       "    </tr>\n",
       "    <tr>\n",
       "      <th>1</th>\n",
       "      <td>2020-11-05 10:45:00</td>\n",
       "      <td>1.18023</td>\n",
       "      <td>1.18039</td>\n",
       "      <td>1.17981</td>\n",
       "      <td>1.18002</td>\n",
       "      <td>4128</td>\n",
       "      <td>1.180100</td>\n",
       "      <td>1.174726</td>\n",
       "      <td>1.177204</td>\n",
       "      <td>1.175678</td>\n",
       "      <td>1.179047</td>\n",
       "      <td>1.173836</td>\n",
       "      <td>-0.000890</td>\n",
       "      <td>-0.001843</td>\n",
       "      <td>-0.001842</td>\n",
       "      <td>0.000760</td>\n",
       "      <td>0.000180</td>\n",
       "      <td>0.001374</td>\n",
       "      <td>0.001379</td>\n",
       "      <td>0.001312</td>\n",
       "      <td>54.566509</td>\n",
       "      <td>10.092962</td>\n",
       "      <td>28.113134</td>\n",
       "      <td>47.283712</td>\n",
       "      <td>32.307692</td>\n",
       "      <td>46.737892</td>\n",
       "      <td>0.002662</td>\n",
       "      <td>57.013728</td>\n",
       "      <td>48.840292</td>\n",
       "      <td>0.015245</td>\n",
       "      <td>71.740715</td>\n",
       "      <td>66.885297</td>\n",
       "      <td>70.852044</td>\n",
       "      <td>0.015241</td>\n",
       "      <td>0.015405</td>\n",
       "      <td>0.015425</td>\n",
       "      <td>0.000000</td>\n",
       "      <td>0.000000</td>\n",
       "      <td>0.000000</td>\n",
       "      <td>0.146823</td>\n",
       "      <td>0.00016</td>\n",
       "      <td>-0.00042</td>\n",
       "      <td>-0.00021</td>\n",
       "      <td>2</td>\n",
       "      <td>1.18002</td>\n",
       "      <td>NaN</td>\n",
       "      <td>1.17981</td>\n",
       "      <td>NaN</td>\n",
       "      <td>None</td>\n",
       "      <td>None</td>\n",
       "    </tr>\n",
       "    <tr>\n",
       "      <th>2</th>\n",
       "      <td>2020-11-05 10:50:00</td>\n",
       "      <td>1.18004</td>\n",
       "      <td>1.18077</td>\n",
       "      <td>1.17991</td>\n",
       "      <td>1.18075</td>\n",
       "      <td>4473</td>\n",
       "      <td>1.180340</td>\n",
       "      <td>1.174801</td>\n",
       "      <td>1.177343</td>\n",
       "      <td>1.175778</td>\n",
       "      <td>1.179209</td>\n",
       "      <td>1.173887</td>\n",
       "      <td>-0.000914</td>\n",
       "      <td>-0.001866</td>\n",
       "      <td>-0.001891</td>\n",
       "      <td>0.000980</td>\n",
       "      <td>0.000120</td>\n",
       "      <td>0.001289</td>\n",
       "      <td>0.001273</td>\n",
       "      <td>0.001239</td>\n",
       "      <td>54.399174</td>\n",
       "      <td>9.246507</td>\n",
       "      <td>29.461104</td>\n",
       "      <td>91.550802</td>\n",
       "      <td>98.290598</td>\n",
       "      <td>59.686610</td>\n",
       "      <td>0.002443</td>\n",
       "      <td>72.859745</td>\n",
       "      <td>76.869322</td>\n",
       "      <td>0.015089</td>\n",
       "      <td>72.430677</td>\n",
       "      <td>71.527319</td>\n",
       "      <td>73.485488</td>\n",
       "      <td>0.015080</td>\n",
       "      <td>0.015223</td>\n",
       "      <td>0.015259</td>\n",
       "      <td>0.373518</td>\n",
       "      <td>0.049723</td>\n",
       "      <td>0.181984</td>\n",
       "      <td>0.139937</td>\n",
       "      <td>0.00073</td>\n",
       "      <td>-0.00013</td>\n",
       "      <td>0.00071</td>\n",
       "      <td>1</td>\n",
       "      <td>NaN</td>\n",
       "      <td>NaN</td>\n",
       "      <td>NaN</td>\n",
       "      <td>NaN</td>\n",
       "      <td>None</td>\n",
       "      <td>None</td>\n",
       "    </tr>\n",
       "    <tr>\n",
       "      <th>3</th>\n",
       "      <td>2020-11-05 10:55:00</td>\n",
       "      <td>1.18074</td>\n",
       "      <td>1.18114</td>\n",
       "      <td>1.18041</td>\n",
       "      <td>1.18113</td>\n",
       "      <td>6115</td>\n",
       "      <td>1.180775</td>\n",
       "      <td>1.174880</td>\n",
       "      <td>1.177492</td>\n",
       "      <td>1.175884</td>\n",
       "      <td>1.179392</td>\n",
       "      <td>1.173940</td>\n",
       "      <td>-0.000940</td>\n",
       "      <td>-0.001900</td>\n",
       "      <td>-0.001944</td>\n",
       "      <td>0.001158</td>\n",
       "      <td>0.000428</td>\n",
       "      <td>0.001208</td>\n",
       "      <td>0.001168</td>\n",
       "      <td>0.001124</td>\n",
       "      <td>54.555118</td>\n",
       "      <td>8.588104</td>\n",
       "      <td>30.972359</td>\n",
       "      <td>134.848949</td>\n",
       "      <td>99.248120</td>\n",
       "      <td>76.615470</td>\n",
       "      <td>0.002388</td>\n",
       "      <td>125.914183</td>\n",
       "      <td>122.131484</td>\n",
       "      <td>0.014989</td>\n",
       "      <td>75.634013</td>\n",
       "      <td>73.601785</td>\n",
       "      <td>75.780013</td>\n",
       "      <td>0.014927</td>\n",
       "      <td>0.015049</td>\n",
       "      <td>0.015102</td>\n",
       "      <td>0.540438</td>\n",
       "      <td>0.280574</td>\n",
       "      <td>0.340546</td>\n",
       "      <td>0.162821</td>\n",
       "      <td>0.00040</td>\n",
       "      <td>-0.00033</td>\n",
       "      <td>0.00039</td>\n",
       "      <td>5</td>\n",
       "      <td>NaN</td>\n",
       "      <td>NaN</td>\n",
       "      <td>NaN</td>\n",
       "      <td>NaN</td>\n",
       "      <td>None</td>\n",
       "      <td>None</td>\n",
       "    </tr>\n",
       "    <tr>\n",
       "      <th>4</th>\n",
       "      <td>2020-11-05 11:00:00</td>\n",
       "      <td>1.18114</td>\n",
       "      <td>1.18121</td>\n",
       "      <td>1.18038</td>\n",
       "      <td>1.18038</td>\n",
       "      <td>4650</td>\n",
       "      <td>1.180795</td>\n",
       "      <td>1.174958</td>\n",
       "      <td>1.177605</td>\n",
       "      <td>1.175973</td>\n",
       "      <td>1.179486</td>\n",
       "      <td>1.173993</td>\n",
       "      <td>-0.000965</td>\n",
       "      <td>-0.001881</td>\n",
       "      <td>-0.001980</td>\n",
       "      <td>0.001171</td>\n",
       "      <td>0.000341</td>\n",
       "      <td>0.001058</td>\n",
       "      <td>0.000979</td>\n",
       "      <td>0.000933</td>\n",
       "      <td>54.756515</td>\n",
       "      <td>7.899377</td>\n",
       "      <td>29.164864</td>\n",
       "      <td>88.633145</td>\n",
       "      <td>40.714286</td>\n",
       "      <td>79.417668</td>\n",
       "      <td>0.002330</td>\n",
       "      <td>112.135565</td>\n",
       "      <td>113.716392</td>\n",
       "      <td>0.014744</td>\n",
       "      <td>75.070400</td>\n",
       "      <td>63.732194</td>\n",
       "      <td>76.199650</td>\n",
       "      <td>0.014746</td>\n",
       "      <td>0.014867</td>\n",
       "      <td>0.015003</td>\n",
       "      <td>0.000000</td>\n",
       "      <td>0.278864</td>\n",
       "      <td>0.369545</td>\n",
       "      <td>0.054249</td>\n",
       "      <td>0.00007</td>\n",
       "      <td>-0.00076</td>\n",
       "      <td>-0.00076</td>\n",
       "      <td>2</td>\n",
       "      <td>NaN</td>\n",
       "      <td>NaN</td>\n",
       "      <td>NaN</td>\n",
       "      <td>NaN</td>\n",
       "      <td>None</td>\n",
       "      <td>1.18121</td>\n",
       "    </tr>\n",
       "    <tr>\n",
       "      <th>...</th>\n",
       "      <td>...</td>\n",
       "      <td>...</td>\n",
       "      <td>...</td>\n",
       "      <td>...</td>\n",
       "      <td>...</td>\n",
       "      <td>...</td>\n",
       "      <td>...</td>\n",
       "      <td>...</td>\n",
       "      <td>...</td>\n",
       "      <td>...</td>\n",
       "      <td>...</td>\n",
       "      <td>...</td>\n",
       "      <td>...</td>\n",
       "      <td>...</td>\n",
       "      <td>...</td>\n",
       "      <td>...</td>\n",
       "      <td>...</td>\n",
       "      <td>...</td>\n",
       "      <td>...</td>\n",
       "      <td>...</td>\n",
       "      <td>...</td>\n",
       "      <td>...</td>\n",
       "      <td>...</td>\n",
       "      <td>...</td>\n",
       "      <td>...</td>\n",
       "      <td>...</td>\n",
       "      <td>...</td>\n",
       "      <td>...</td>\n",
       "      <td>...</td>\n",
       "      <td>...</td>\n",
       "      <td>...</td>\n",
       "      <td>...</td>\n",
       "      <td>...</td>\n",
       "      <td>...</td>\n",
       "      <td>...</td>\n",
       "      <td>...</td>\n",
       "      <td>...</td>\n",
       "      <td>...</td>\n",
       "      <td>...</td>\n",
       "      <td>...</td>\n",
       "      <td>...</td>\n",
       "      <td>...</td>\n",
       "      <td>...</td>\n",
       "      <td>...</td>\n",
       "      <td>...</td>\n",
       "      <td>...</td>\n",
       "      <td>...</td>\n",
       "      <td>...</td>\n",
       "      <td>...</td>\n",
       "      <td>...</td>\n",
       "    </tr>\n",
       "    <tr>\n",
       "      <th>199695</th>\n",
       "      <td>2023-07-06 18:35:00</td>\n",
       "      <td>1.08821</td>\n",
       "      <td>1.08824</td>\n",
       "      <td>1.08803</td>\n",
       "      <td>1.08813</td>\n",
       "      <td>393</td>\n",
       "      <td>1.088135</td>\n",
       "      <td>1.086985</td>\n",
       "      <td>1.087499</td>\n",
       "      <td>1.087219</td>\n",
       "      <td>1.087815</td>\n",
       "      <td>1.086561</td>\n",
       "      <td>-0.000424</td>\n",
       "      <td>-0.000315</td>\n",
       "      <td>-0.000658</td>\n",
       "      <td>0.000325</td>\n",
       "      <td>0.000115</td>\n",
       "      <td>0.000228</td>\n",
       "      <td>0.000211</td>\n",
       "      <td>0.000236</td>\n",
       "      <td>23.055693</td>\n",
       "      <td>14.125735</td>\n",
       "      <td>24.818278</td>\n",
       "      <td>131.014493</td>\n",
       "      <td>78.431373</td>\n",
       "      <td>62.810458</td>\n",
       "      <td>0.000286</td>\n",
       "      <td>159.179416</td>\n",
       "      <td>134.140436</td>\n",
       "      <td>0.002852</td>\n",
       "      <td>62.470629</td>\n",
       "      <td>57.418515</td>\n",
       "      <td>58.430560</td>\n",
       "      <td>0.003339</td>\n",
       "      <td>0.002466</td>\n",
       "      <td>0.002918</td>\n",
       "      <td>0.628063</td>\n",
       "      <td>0.943768</td>\n",
       "      <td>0.840836</td>\n",
       "      <td>0.020222</td>\n",
       "      <td>0.00003</td>\n",
       "      <td>-0.00018</td>\n",
       "      <td>-0.00008</td>\n",
       "      <td>0</td>\n",
       "      <td>NaN</td>\n",
       "      <td>NaN</td>\n",
       "      <td>NaN</td>\n",
       "      <td>NaN</td>\n",
       "      <td>None</td>\n",
       "      <td>None</td>\n",
       "    </tr>\n",
       "    <tr>\n",
       "      <th>199696</th>\n",
       "      <td>2023-07-06 18:40:00</td>\n",
       "      <td>1.08812</td>\n",
       "      <td>1.08833</td>\n",
       "      <td>1.08802</td>\n",
       "      <td>1.08832</td>\n",
       "      <td>882</td>\n",
       "      <td>1.088175</td>\n",
       "      <td>1.087001</td>\n",
       "      <td>1.087531</td>\n",
       "      <td>1.087241</td>\n",
       "      <td>1.087863</td>\n",
       "      <td>1.086575</td>\n",
       "      <td>-0.000426</td>\n",
       "      <td>-0.000331</td>\n",
       "      <td>-0.000666</td>\n",
       "      <td>0.000357</td>\n",
       "      <td>0.000047</td>\n",
       "      <td>0.000213</td>\n",
       "      <td>0.000196</td>\n",
       "      <td>0.000247</td>\n",
       "      <td>23.616403</td>\n",
       "      <td>13.239138</td>\n",
       "      <td>25.082767</td>\n",
       "      <td>159.008198</td>\n",
       "      <td>98.333333</td>\n",
       "      <td>92.254902</td>\n",
       "      <td>0.000306</td>\n",
       "      <td>140.966123</td>\n",
       "      <td>145.757180</td>\n",
       "      <td>0.002858</td>\n",
       "      <td>62.160062</td>\n",
       "      <td>60.137159</td>\n",
       "      <td>60.141288</td>\n",
       "      <td>0.003269</td>\n",
       "      <td>0.002441</td>\n",
       "      <td>0.002869</td>\n",
       "      <td>0.958907</td>\n",
       "      <td>0.898872</td>\n",
       "      <td>1.000000</td>\n",
       "      <td>0.064361</td>\n",
       "      <td>0.00021</td>\n",
       "      <td>-0.00010</td>\n",
       "      <td>0.00020</td>\n",
       "      <td>5</td>\n",
       "      <td>NaN</td>\n",
       "      <td>NaN</td>\n",
       "      <td>NaN</td>\n",
       "      <td>NaN</td>\n",
       "      <td>None</td>\n",
       "      <td>None</td>\n",
       "    </tr>\n",
       "    <tr>\n",
       "      <th>199697</th>\n",
       "      <td>2023-07-06 18:45:00</td>\n",
       "      <td>1.08833</td>\n",
       "      <td>1.08846</td>\n",
       "      <td>1.08823</td>\n",
       "      <td>1.08844</td>\n",
       "      <td>896</td>\n",
       "      <td>1.088345</td>\n",
       "      <td>1.087019</td>\n",
       "      <td>1.087567</td>\n",
       "      <td>1.087265</td>\n",
       "      <td>1.087918</td>\n",
       "      <td>1.086590</td>\n",
       "      <td>-0.000429</td>\n",
       "      <td>-0.000351</td>\n",
       "      <td>-0.000675</td>\n",
       "      <td>0.000421</td>\n",
       "      <td>0.000191</td>\n",
       "      <td>0.000219</td>\n",
       "      <td>0.000189</td>\n",
       "      <td>0.000238</td>\n",
       "      <td>24.476968</td>\n",
       "      <td>12.606910</td>\n",
       "      <td>26.584121</td>\n",
       "      <td>186.958966</td>\n",
       "      <td>97.183099</td>\n",
       "      <td>91.315935</td>\n",
       "      <td>0.000361</td>\n",
       "      <td>183.432343</td>\n",
       "      <td>184.775936</td>\n",
       "      <td>0.002916</td>\n",
       "      <td>65.984446</td>\n",
       "      <td>61.796176</td>\n",
       "      <td>62.539388</td>\n",
       "      <td>0.003257</td>\n",
       "      <td>0.002463</td>\n",
       "      <td>0.002874</td>\n",
       "      <td>1.000000</td>\n",
       "      <td>1.000000</td>\n",
       "      <td>1.000000</td>\n",
       "      <td>0.029409</td>\n",
       "      <td>0.00013</td>\n",
       "      <td>-0.00010</td>\n",
       "      <td>0.00011</td>\n",
       "      <td>0</td>\n",
       "      <td>NaN</td>\n",
       "      <td>1.08844</td>\n",
       "      <td>NaN</td>\n",
       "      <td>NaN</td>\n",
       "      <td>None</td>\n",
       "      <td>None</td>\n",
       "    </tr>\n",
       "    <tr>\n",
       "      <th>199698</th>\n",
       "      <td>2023-07-06 18:50:00</td>\n",
       "      <td>1.08843</td>\n",
       "      <td>1.08856</td>\n",
       "      <td>1.08836</td>\n",
       "      <td>1.08839</td>\n",
       "      <td>780</td>\n",
       "      <td>1.088460</td>\n",
       "      <td>1.087038</td>\n",
       "      <td>1.087599</td>\n",
       "      <td>1.087287</td>\n",
       "      <td>1.087963</td>\n",
       "      <td>1.086606</td>\n",
       "      <td>-0.000432</td>\n",
       "      <td>-0.000363</td>\n",
       "      <td>-0.000681</td>\n",
       "      <td>0.000471</td>\n",
       "      <td>0.000271</td>\n",
       "      <td>0.000223</td>\n",
       "      <td>0.000196</td>\n",
       "      <td>0.000248</td>\n",
       "      <td>25.524098</td>\n",
       "      <td>12.067262</td>\n",
       "      <td>27.586454</td>\n",
       "      <td>165.001998</td>\n",
       "      <td>79.012346</td>\n",
       "      <td>91.509593</td>\n",
       "      <td>0.000446</td>\n",
       "      <td>174.015849</td>\n",
       "      <td>176.788180</td>\n",
       "      <td>0.002989</td>\n",
       "      <td>68.131679</td>\n",
       "      <td>60.663301</td>\n",
       "      <td>64.317818</td>\n",
       "      <td>0.003303</td>\n",
       "      <td>0.002529</td>\n",
       "      <td>0.002928</td>\n",
       "      <td>0.881233</td>\n",
       "      <td>1.000000</td>\n",
       "      <td>1.000000</td>\n",
       "      <td>0.045961</td>\n",
       "      <td>0.00013</td>\n",
       "      <td>-0.00007</td>\n",
       "      <td>-0.00004</td>\n",
       "      <td>0</td>\n",
       "      <td>NaN</td>\n",
       "      <td>NaN</td>\n",
       "      <td>NaN</td>\n",
       "      <td>1.08856</td>\n",
       "      <td>None</td>\n",
       "      <td>None</td>\n",
       "    </tr>\n",
       "    <tr>\n",
       "      <th>199699</th>\n",
       "      <td>2023-07-06 18:55:00</td>\n",
       "      <td>1.08839</td>\n",
       "      <td>1.08841</td>\n",
       "      <td>1.08805</td>\n",
       "      <td>1.08807</td>\n",
       "      <td>823</td>\n",
       "      <td>1.088230</td>\n",
       "      <td>1.087054</td>\n",
       "      <td>1.087618</td>\n",
       "      <td>1.087302</td>\n",
       "      <td>1.087973</td>\n",
       "      <td>1.086620</td>\n",
       "      <td>-0.000434</td>\n",
       "      <td>-0.000355</td>\n",
       "      <td>-0.000682</td>\n",
       "      <td>0.000323</td>\n",
       "      <td>-0.000037</td>\n",
       "      <td>0.000222</td>\n",
       "      <td>0.000191</td>\n",
       "      <td>0.000238</td>\n",
       "      <td>24.979049</td>\n",
       "      <td>17.740466</td>\n",
       "      <td>25.472793</td>\n",
       "      <td>52.998724</td>\n",
       "      <td>9.259259</td>\n",
       "      <td>61.818235</td>\n",
       "      <td>0.000497</td>\n",
       "      <td>66.281541</td>\n",
       "      <td>78.900344</td>\n",
       "      <td>0.002990</td>\n",
       "      <td>58.627664</td>\n",
       "      <td>53.858168</td>\n",
       "      <td>59.736626</td>\n",
       "      <td>0.003311</td>\n",
       "      <td>0.002582</td>\n",
       "      <td>0.002997</td>\n",
       "      <td>0.167805</td>\n",
       "      <td>0.176833</td>\n",
       "      <td>0.610214</td>\n",
       "      <td>0.037696</td>\n",
       "      <td>0.00002</td>\n",
       "      <td>-0.00034</td>\n",
       "      <td>-0.00032</td>\n",
       "      <td>2</td>\n",
       "      <td>NaN</td>\n",
       "      <td>NaN</td>\n",
       "      <td>NaN</td>\n",
       "      <td>NaN</td>\n",
       "      <td>None</td>\n",
       "      <td>None</td>\n",
       "    </tr>\n",
       "  </tbody>\n",
       "</table>\n",
       "<p>199700 rows × 50 columns</p>\n",
       "</div>"
      ],
      "text/plain": [
       "                       Time     Open     High      Low    Close  Volume  \\\n",
       "0       2020-11-05 10:40:00  1.18018  1.18058  1.17986  1.18023    3453   \n",
       "1       2020-11-05 10:45:00  1.18023  1.18039  1.17981  1.18002    4128   \n",
       "2       2020-11-05 10:50:00  1.18004  1.18077  1.17991  1.18075    4473   \n",
       "3       2020-11-05 10:55:00  1.18074  1.18114  1.18041  1.18113    6115   \n",
       "4       2020-11-05 11:00:00  1.18114  1.18121  1.18038  1.18038    4650   \n",
       "...                     ...      ...      ...      ...      ...     ...   \n",
       "199695  2023-07-06 18:35:00  1.08821  1.08824  1.08803  1.08813     393   \n",
       "199696  2023-07-06 18:40:00  1.08812  1.08833  1.08802  1.08832     882   \n",
       "199697  2023-07-06 18:45:00  1.08833  1.08846  1.08823  1.08844     896   \n",
       "199698  2023-07-06 18:50:00  1.08843  1.08856  1.08836  1.08839     780   \n",
       "199699  2023-07-06 18:55:00  1.08839  1.08841  1.08805  1.08807     823   \n",
       "\n",
       "           Media  Media_ema_150  Close_ema_50  Close_ema_100  Close_ema_20  \\\n",
       "0       1.180220       1.174654      1.177089       1.175590      1.178944   \n",
       "1       1.180100       1.174726      1.177204       1.175678      1.179047   \n",
       "2       1.180340       1.174801      1.177343       1.175778      1.179209   \n",
       "3       1.180775       1.174880      1.177492       1.175884      1.179392   \n",
       "4       1.180795       1.174958      1.177605       1.175973      1.179486   \n",
       "...          ...            ...           ...            ...           ...   \n",
       "199695  1.088135       1.086985      1.087499       1.087219      1.087815   \n",
       "199696  1.088175       1.087001      1.087531       1.087241      1.087863   \n",
       "199697  1.088345       1.087019      1.087567       1.087265      1.087918   \n",
       "199698  1.088460       1.087038      1.087599       1.087287      1.087963   \n",
       "199699  1.088230       1.087054      1.087618       1.087302      1.087973   \n",
       "\n",
       "        Media_wma_300  diferencia_150_300  diferencia_20_50  \\\n",
       "0            1.173787           -0.000867         -0.001855   \n",
       "1            1.173836           -0.000890         -0.001843   \n",
       "2            1.173887           -0.000914         -0.001866   \n",
       "3            1.173940           -0.000940         -0.001900   \n",
       "4            1.173993           -0.000965         -0.001881   \n",
       "...               ...                 ...               ...   \n",
       "199695       1.086561           -0.000424         -0.000315   \n",
       "199696       1.086575           -0.000426         -0.000331   \n",
       "199697       1.086590           -0.000429         -0.000351   \n",
       "199698       1.086606           -0.000432         -0.000363   \n",
       "199699       1.086620           -0.000434         -0.000355   \n",
       "\n",
       "        diferencia_100_300  BullsPower_13  BearsPower_13  Low_StdDev_20  \\\n",
       "0                -0.001803       0.001015       0.000295       0.001478   \n",
       "1                -0.001842       0.000760       0.000180       0.001374   \n",
       "2                -0.001891       0.000980       0.000120       0.001289   \n",
       "3                -0.001944       0.001158       0.000428       0.001208   \n",
       "4                -0.001980       0.001171       0.000341       0.001058   \n",
       "...                    ...            ...            ...            ...   \n",
       "199695           -0.000658       0.000325       0.000115       0.000228   \n",
       "199696           -0.000666       0.000357       0.000047       0.000213   \n",
       "199697           -0.000675       0.000421       0.000191       0.000219   \n",
       "199698           -0.000681       0.000471       0.000271       0.000223   \n",
       "199699           -0.000682       0.000323      -0.000037       0.000222   \n",
       "\n",
       "        High_StdDev_20  Close_StdDev_20  adx_14_adx  adx_14neg  adx_14pos  \\\n",
       "0             0.001494         0.001426   55.135802  10.182499  29.822835   \n",
       "1             0.001379         0.001312   54.566509  10.092962  28.113134   \n",
       "2             0.001273         0.001239   54.399174   9.246507  29.461104   \n",
       "3             0.001168         0.001124   54.555118   8.588104  30.972359   \n",
       "4             0.000979         0.000933   54.756515   7.899377  29.164864   \n",
       "...                ...              ...         ...        ...        ...   \n",
       "199695        0.000211         0.000236   23.055693  14.125735  24.818278   \n",
       "199696        0.000196         0.000247   23.616403  13.239138  25.082767   \n",
       "199697        0.000189         0.000238   24.476968  12.606910  26.584121   \n",
       "199698        0.000196         0.000248   25.524098  12.067262  27.586454   \n",
       "199699        0.000191         0.000238   24.979049  17.740466  25.472793   \n",
       "\n",
       "        Close_cci_14  stochastic_5_3stoch  stochastic_5_3signal   ao_5_34  \\\n",
       "0          78.852056            48.461538             60.042735  0.002893   \n",
       "1          47.283712            32.307692             46.737892  0.002662   \n",
       "2          91.550802            98.290598             59.686610  0.002443   \n",
       "3         134.848949            99.248120             76.615470  0.002388   \n",
       "4          88.633145            40.714286             79.417668  0.002330   \n",
       "...              ...                  ...                   ...       ...   \n",
       "199695    131.014493            78.431373             62.810458  0.000286   \n",
       "199696    159.008198            98.333333             92.254902  0.000306   \n",
       "199697    186.958966            97.183099             91.315935  0.000361   \n",
       "199698    165.001998            79.012346             91.509593  0.000446   \n",
       "199699     52.998724             9.259259             61.818235  0.000497   \n",
       "\n",
       "        Low_cci_14  High_cci_14  Close_trix_14  Low_rsi_14  Close_rsi_14  \\\n",
       "0        82.386906    77.035016       0.015415   72.584100     69.930801   \n",
       "1        57.013728    48.840292       0.015245   71.740715     66.885297   \n",
       "2        72.859745    76.869322       0.015089   72.430677     71.527319   \n",
       "3       125.914183   122.131484       0.014989   75.634013     73.601785   \n",
       "4       112.135565   113.716392       0.014744   75.070400     63.732194   \n",
       "...            ...          ...            ...         ...           ...   \n",
       "199695  159.179416   134.140436       0.002852   62.470629     57.418515   \n",
       "199696  140.966123   145.757180       0.002858   62.160062     60.137159   \n",
       "199697  183.432343   184.775936       0.002916   65.984446     61.796176   \n",
       "199698  174.015849   176.788180       0.002989   68.131679     60.663301   \n",
       "199699   66.281541    78.900344       0.002990   58.627664     53.858168   \n",
       "\n",
       "        High_rsi_14  Low_trix_14  High_trix_14  Open_trix_14  \\\n",
       "0         74.277208     0.015304      0.015527      0.015431   \n",
       "1         70.852044     0.015241      0.015405      0.015425   \n",
       "2         73.485488     0.015080      0.015223      0.015259   \n",
       "3         75.780013     0.014927      0.015049      0.015102   \n",
       "4         76.199650     0.014746      0.014867      0.015003   \n",
       "...             ...          ...           ...           ...   \n",
       "199695    58.430560     0.003339      0.002466      0.002918   \n",
       "199696    60.141288     0.003269      0.002441      0.002869   \n",
       "199697    62.539388     0.003257      0.002463      0.002874   \n",
       "199698    64.317818     0.003303      0.002529      0.002928   \n",
       "199699    59.736626     0.003311      0.002582      0.002997   \n",
       "\n",
       "        Close_stochrsi_14  Low_stochrsi_14  High_stochrsi_14  Close_roc_14  \\\n",
       "0                0.037711         0.041960          0.042938      0.193557   \n",
       "1                0.000000         0.000000          0.000000      0.146823   \n",
       "2                0.373518         0.049723          0.181984      0.139937   \n",
       "3                0.540438         0.280574          0.340546      0.162821   \n",
       "4                0.000000         0.278864          0.369545      0.054249   \n",
       "...                   ...              ...               ...           ...   \n",
       "199695           0.628063         0.943768          0.840836      0.020222   \n",
       "199696           0.958907         0.898872          1.000000      0.064361   \n",
       "199697           1.000000         1.000000          1.000000      0.029409   \n",
       "199698           0.881233         1.000000          1.000000      0.045961   \n",
       "199699           0.167805         0.176833          0.610214      0.037696   \n",
       "\n",
       "            H/O      L/O      C/O  cluster  picos_minimos_close  \\\n",
       "0       0.00040 -0.00032  0.00005        5                  NaN   \n",
       "1       0.00016 -0.00042 -0.00021        2              1.18002   \n",
       "2       0.00073 -0.00013  0.00071        1                  NaN   \n",
       "3       0.00040 -0.00033  0.00039        5                  NaN   \n",
       "4       0.00007 -0.00076 -0.00076        2                  NaN   \n",
       "...         ...      ...      ...      ...                  ...   \n",
       "199695  0.00003 -0.00018 -0.00008        0                  NaN   \n",
       "199696  0.00021 -0.00010  0.00020        5                  NaN   \n",
       "199697  0.00013 -0.00010  0.00011        0                  NaN   \n",
       "199698  0.00013 -0.00007 -0.00004        0                  NaN   \n",
       "199699  0.00002 -0.00034 -0.00032        2                  NaN   \n",
       "\n",
       "        picos_maximos_close  picos_minimos_low  picos_maximos_high Support  \\\n",
       "0                       NaN                NaN                 NaN    None   \n",
       "1                       NaN            1.17981                 NaN    None   \n",
       "2                       NaN                NaN                 NaN    None   \n",
       "3                       NaN                NaN                 NaN    None   \n",
       "4                       NaN                NaN                 NaN    None   \n",
       "...                     ...                ...                 ...     ...   \n",
       "199695                  NaN                NaN                 NaN    None   \n",
       "199696                  NaN                NaN                 NaN    None   \n",
       "199697              1.08844                NaN                 NaN    None   \n",
       "199698                  NaN                NaN             1.08856    None   \n",
       "199699                  NaN                NaN                 NaN    None   \n",
       "\n",
       "       Resistance  \n",
       "0            None  \n",
       "1            None  \n",
       "2            None  \n",
       "3            None  \n",
       "4         1.18121  \n",
       "...           ...  \n",
       "199695       None  \n",
       "199696       None  \n",
       "199697       None  \n",
       "199698       None  \n",
       "199699       None  \n",
       "\n",
       "[199700 rows x 50 columns]"
      ]
     },
     "execution_count": 22,
     "metadata": {},
     "output_type": "execute_result"
    }
   ],
   "source": [
    "# Crear nuevas columnas en data para almacenar los datos de ss y rr\n",
    "data['Support'] = None\n",
    "data['Resistance'] = None\n",
    "\n",
    "# Rellenar las columnas con los valores de ss y rr en sus respectivos índices\n",
    "for index, value in ss:\n",
    "    data.at[index, 'Support'] = value\n",
    "\n",
    "for index, value in rr:\n",
    "    data.at[index, 'Resistance'] = value\n",
    "\n",
    "data = data.drop('picos_maximos_high', axis=1)\n",
    "data = data.drop('picos_minimos_low', axis=1)\n",
    "data"
   ]
  },
  {
   "cell_type": "code",
   "execution_count": null,
   "metadata": {},
   "outputs": [],
   "source": [
    "#data.to_csv('EURUSD_M5_Indicadores_resistencia.csv')"
   ]
  }
 ],
 "metadata": {
  "kernelspec": {
   "display_name": "Python 3",
   "language": "python",
   "name": "python3"
  },
  "language_info": {
   "codemirror_mode": {
    "name": "ipython",
    "version": 3
   },
   "file_extension": ".py",
   "mimetype": "text/x-python",
   "name": "python",
   "nbconvert_exporter": "python",
   "pygments_lexer": "ipython3",
   "version": "3.10.2"
  },
  "orig_nbformat": 4
 },
 "nbformat": 4,
 "nbformat_minor": 2
}
